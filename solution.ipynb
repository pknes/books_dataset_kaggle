{
 "cells": [
  {
   "cell_type": "markdown",
   "id": "b905e0b3",
   "metadata": {},
   "source": [
    "# Imports and configurations"
   ]
  },
  {
   "cell_type": "code",
   "execution_count": 1,
   "id": "91929477",
   "metadata": {
    "scrolled": true
   },
   "outputs": [],
   "source": [
    "import numpy as np"
   ]
  },
  {
   "cell_type": "code",
   "execution_count": 2,
   "id": "dc20e720",
   "metadata": {
    "scrolled": true
   },
   "outputs": [],
   "source": [
    "import pandas as pd"
   ]
  },
  {
   "cell_type": "code",
   "execution_count": 3,
   "id": "45d11216",
   "metadata": {
    "scrolled": true
   },
   "outputs": [],
   "source": [
    "import matplotlib.pyplot as plt"
   ]
  },
  {
   "cell_type": "code",
   "execution_count": 4,
   "id": "8c22d853",
   "metadata": {},
   "outputs": [],
   "source": [
    "from sklearn.preprocessing import OneHotEncoder, StandardScaler"
   ]
  },
  {
   "cell_type": "code",
   "execution_count": 5,
   "id": "9d63927b",
   "metadata": {},
   "outputs": [],
   "source": [
    "from sklearn.model_selection import train_test_split, GridSearchCV"
   ]
  },
  {
   "cell_type": "code",
   "execution_count": 6,
   "id": "d32cd3d3",
   "metadata": {},
   "outputs": [],
   "source": [
    "from sklearn.ensemble import RandomForestRegressor"
   ]
  },
  {
   "cell_type": "code",
   "execution_count": 7,
   "id": "f610b7e2",
   "metadata": {},
   "outputs": [],
   "source": [
    "from sklearn.metrics import r2_score"
   ]
  },
  {
   "cell_type": "code",
   "execution_count": 94,
   "id": "aafa8ac5",
   "metadata": {},
   "outputs": [],
   "source": [
    "import pickle"
   ]
  },
  {
   "cell_type": "code",
   "execution_count": 8,
   "id": "750ba7b8",
   "metadata": {},
   "outputs": [],
   "source": [
    "from time import time"
   ]
  },
  {
   "cell_type": "code",
   "execution_count": 9,
   "id": "2a308934",
   "metadata": {},
   "outputs": [
    {
     "name": "stderr",
     "output_type": "stream",
     "text": [
      "C:\\Users\\Rzeczy\\AppData\\Local\\Temp\\ipykernel_3764\\4081935049.py:1: DeprecationWarning: Importing display from IPython.core.display is deprecated since IPython 7.14, please import from IPython display\n",
      "  from IPython.core.display import display, HTML\n"
     ]
    },
    {
     "data": {
      "text/html": [
       "<style>.container{width:90% !important;}</style>"
      ],
      "text/plain": [
       "<IPython.core.display.HTML object>"
      ]
     },
     "metadata": {},
     "output_type": "display_data"
    }
   ],
   "source": [
    "from IPython.core.display import display, HTML\n",
    "display(HTML(\"<style>.container{width:90% !important;}</style>\"))"
   ]
  },
  {
   "cell_type": "markdown",
   "id": "c1201fff",
   "metadata": {},
   "source": [
    "# Data load"
   ]
  },
  {
   "cell_type": "code",
   "execution_count": 10,
   "id": "34f959c4",
   "metadata": {
    "scrolled": true
   },
   "outputs": [],
   "source": [
    "ratings = pd.read_csv('data/ratings.csv', \n",
    "                      delimiter=';', \n",
    "                      quotechar='\"', \n",
    "                      encoding='latin1', \n",
    "                      header=0,\n",
    "                     )"
   ]
  },
  {
   "cell_type": "code",
   "execution_count": 11,
   "id": "7f362c33",
   "metadata": {
    "scrolled": true
   },
   "outputs": [],
   "source": [
    "users = pd.read_csv('data/users.csv', \n",
    "                    delimiter=';', \n",
    "                    quotechar='\"', \n",
    "                    encoding='latin1', \n",
    "                    header=0, \n",
    "                   )"
   ]
  },
  {
   "cell_type": "code",
   "execution_count": 12,
   "id": "76d3b4b4",
   "metadata": {
    "scrolled": true
   },
   "outputs": [
    {
     "name": "stderr",
     "output_type": "stream",
     "text": [
      "C:\\Users\\Rzeczy\\AppData\\Local\\Temp\\ipykernel_3764\\1829374821.py:1: FutureWarning: The error_bad_lines argument has been deprecated and will be removed in a future version. Use on_bad_lines in the future.\n",
      "\n",
      "\n",
      "  books = pd.read_csv('data/books.csv',\n",
      "C:\\Users\\Rzeczy\\AppData\\Local\\Temp\\ipykernel_3764\\1829374821.py:1: FutureWarning: The warn_bad_lines argument has been deprecated and will be removed in a future version. Use on_bad_lines in the future.\n",
      "\n",
      "\n",
      "  books = pd.read_csv('data/books.csv',\n",
      "b'Skipping line 6452: expected 8 fields, saw 9\\nSkipping line 43667: expected 8 fields, saw 10\\nSkipping line 51751: expected 8 fields, saw 9\\n'\n",
      "b'Skipping line 92038: expected 8 fields, saw 9\\nSkipping line 104319: expected 8 fields, saw 9\\nSkipping line 121768: expected 8 fields, saw 9\\n'\n",
      "b'Skipping line 144058: expected 8 fields, saw 9\\nSkipping line 150789: expected 8 fields, saw 9\\nSkipping line 157128: expected 8 fields, saw 9\\nSkipping line 180189: expected 8 fields, saw 9\\nSkipping line 185738: expected 8 fields, saw 9\\n'\n",
      "b'Skipping line 209388: expected 8 fields, saw 9\\nSkipping line 220626: expected 8 fields, saw 9\\nSkipping line 227933: expected 8 fields, saw 11\\nSkipping line 228957: expected 8 fields, saw 10\\nSkipping line 245933: expected 8 fields, saw 9\\nSkipping line 251296: expected 8 fields, saw 9\\nSkipping line 259941: expected 8 fields, saw 9\\nSkipping line 261529: expected 8 fields, saw 9\\n'\n",
      "C:\\Users\\Rzeczy\\AppData\\Local\\Temp\\ipykernel_3764\\1829374821.py:1: DtypeWarning: Columns (3) have mixed types. Specify dtype option on import or set low_memory=False.\n",
      "  books = pd.read_csv('data/books.csv',\n"
     ]
    }
   ],
   "source": [
    "books = pd.read_csv('data/books.csv', \n",
    "                    delimiter=';', \n",
    "                    quotechar='\"', \n",
    "                    encoding='latin1', \n",
    "                    header=0, \n",
    "                    error_bad_lines=False, \n",
    "                    warn_bad_lines=True,\n",
    "                   )  # skipping a few lines which cause error during reading the 'books.csv'"
   ]
  },
  {
   "cell_type": "markdown",
   "id": "e31a67a2",
   "metadata": {},
   "source": [
    "# Data analysis and initial preprocessing"
   ]
  },
  {
   "cell_type": "code",
   "execution_count": 13,
   "id": "195c191a",
   "metadata": {
    "scrolled": true
   },
   "outputs": [
    {
     "data": {
      "text/html": [
       "<div>\n",
       "<style scoped>\n",
       "    .dataframe tbody tr th:only-of-type {\n",
       "        vertical-align: middle;\n",
       "    }\n",
       "\n",
       "    .dataframe tbody tr th {\n",
       "        vertical-align: top;\n",
       "    }\n",
       "\n",
       "    .dataframe thead th {\n",
       "        text-align: right;\n",
       "    }\n",
       "</style>\n",
       "<table border=\"1\" class=\"dataframe\">\n",
       "  <thead>\n",
       "    <tr style=\"text-align: right;\">\n",
       "      <th></th>\n",
       "      <th>User-ID</th>\n",
       "      <th>Location</th>\n",
       "      <th>Age</th>\n",
       "    </tr>\n",
       "  </thead>\n",
       "  <tbody>\n",
       "    <tr>\n",
       "      <th>0</th>\n",
       "      <td>1</td>\n",
       "      <td>nyc, new york, usa</td>\n",
       "      <td>NaN</td>\n",
       "    </tr>\n",
       "    <tr>\n",
       "      <th>1</th>\n",
       "      <td>2</td>\n",
       "      <td>stockton, california, usa</td>\n",
       "      <td>18.0</td>\n",
       "    </tr>\n",
       "    <tr>\n",
       "      <th>2</th>\n",
       "      <td>3</td>\n",
       "      <td>moscow, yukon territory, russia</td>\n",
       "      <td>NaN</td>\n",
       "    </tr>\n",
       "    <tr>\n",
       "      <th>3</th>\n",
       "      <td>4</td>\n",
       "      <td>porto, v.n.gaia, portugal</td>\n",
       "      <td>17.0</td>\n",
       "    </tr>\n",
       "    <tr>\n",
       "      <th>4</th>\n",
       "      <td>5</td>\n",
       "      <td>farnborough, hants, united kingdom</td>\n",
       "      <td>NaN</td>\n",
       "    </tr>\n",
       "  </tbody>\n",
       "</table>\n",
       "</div>"
      ],
      "text/plain": [
       "   User-ID                            Location   Age\n",
       "0        1                  nyc, new york, usa   NaN\n",
       "1        2           stockton, california, usa  18.0\n",
       "2        3     moscow, yukon territory, russia   NaN\n",
       "3        4           porto, v.n.gaia, portugal  17.0\n",
       "4        5  farnborough, hants, united kingdom   NaN"
      ]
     },
     "execution_count": 13,
     "metadata": {},
     "output_type": "execute_result"
    }
   ],
   "source": [
    "users.head()"
   ]
  },
  {
   "cell_type": "markdown",
   "id": "900148e8",
   "metadata": {},
   "source": [
    "### Users' location may be converted to a country only to be more informative"
   ]
  },
  {
   "cell_type": "code",
   "execution_count": 14,
   "id": "72523ddd",
   "metadata": {},
   "outputs": [],
   "source": [
    "users['Location'] = users['Location'].apply(lambda x: x.split(',')[-1].strip())"
   ]
  },
  {
   "cell_type": "code",
   "execution_count": 15,
   "id": "3b117ed2",
   "metadata": {},
   "outputs": [
    {
     "data": {
      "text/html": [
       "<div>\n",
       "<style scoped>\n",
       "    .dataframe tbody tr th:only-of-type {\n",
       "        vertical-align: middle;\n",
       "    }\n",
       "\n",
       "    .dataframe tbody tr th {\n",
       "        vertical-align: top;\n",
       "    }\n",
       "\n",
       "    .dataframe thead th {\n",
       "        text-align: right;\n",
       "    }\n",
       "</style>\n",
       "<table border=\"1\" class=\"dataframe\">\n",
       "  <thead>\n",
       "    <tr style=\"text-align: right;\">\n",
       "      <th></th>\n",
       "      <th>User-ID</th>\n",
       "      <th>Location</th>\n",
       "      <th>Age</th>\n",
       "    </tr>\n",
       "  </thead>\n",
       "  <tbody>\n",
       "    <tr>\n",
       "      <th>0</th>\n",
       "      <td>1</td>\n",
       "      <td>usa</td>\n",
       "      <td>NaN</td>\n",
       "    </tr>\n",
       "    <tr>\n",
       "      <th>1</th>\n",
       "      <td>2</td>\n",
       "      <td>usa</td>\n",
       "      <td>18.0</td>\n",
       "    </tr>\n",
       "    <tr>\n",
       "      <th>2</th>\n",
       "      <td>3</td>\n",
       "      <td>russia</td>\n",
       "      <td>NaN</td>\n",
       "    </tr>\n",
       "    <tr>\n",
       "      <th>3</th>\n",
       "      <td>4</td>\n",
       "      <td>portugal</td>\n",
       "      <td>17.0</td>\n",
       "    </tr>\n",
       "    <tr>\n",
       "      <th>4</th>\n",
       "      <td>5</td>\n",
       "      <td>united kingdom</td>\n",
       "      <td>NaN</td>\n",
       "    </tr>\n",
       "  </tbody>\n",
       "</table>\n",
       "</div>"
      ],
      "text/plain": [
       "   User-ID        Location   Age\n",
       "0        1             usa   NaN\n",
       "1        2             usa  18.0\n",
       "2        3          russia   NaN\n",
       "3        4        portugal  17.0\n",
       "4        5  united kingdom   NaN"
      ]
     },
     "execution_count": 15,
     "metadata": {},
     "output_type": "execute_result"
    }
   ],
   "source": [
    "users.head()"
   ]
  },
  {
   "cell_type": "code",
   "execution_count": 16,
   "id": "bed8c3ad",
   "metadata": {},
   "outputs": [
    {
     "data": {
      "image/png": "[encoded data removed]",
      "text/plain": [
       "<Figure size 2016x1008 with 1 Axes>"
      ]
     },
     "metadata": {
      "needs_background": "light"
     },
     "output_type": "display_data"
    }
   ],
   "source": [
    "plt.figure(figsize=(28, 14))\n",
    "users['Location'].value_counts()[:15].plot(kind='bar', rot=40)  # showing only top 15 countries as a graph wouldn't readible\n",
    "plt.title('Users origin distribution')\n",
    "plt.show()"
   ]
  },
  {
   "cell_type": "markdown",
   "id": "2532aa9d",
   "metadata": {},
   "source": [
    "### It can be seen that most users come from USA. Also, there are few users who do not have any country related"
   ]
  },
  {
   "cell_type": "code",
   "execution_count": 17,
   "id": "494d11aa",
   "metadata": {},
   "outputs": [
    {
     "name": "stdout",
     "output_type": "stream",
     "text": [
      "<class 'pandas.core.frame.DataFrame'>\n",
      "RangeIndex: 278858 entries, 0 to 278857\n",
      "Data columns (total 3 columns):\n",
      " #   Column    Non-Null Count   Dtype  \n",
      "---  ------    --------------   -----  \n",
      " 0   User-ID   278858 non-null  int64  \n",
      " 1   Location  278858 non-null  object \n",
      " 2   Age       168096 non-null  float64\n",
      "dtypes: float64(1), int64(1), object(1)\n",
      "memory usage: 6.4+ MB\n"
     ]
    }
   ],
   "source": [
    "users.info()"
   ]
  },
  {
   "cell_type": "code",
   "execution_count": 18,
   "id": "d6236e17",
   "metadata": {},
   "outputs": [
    {
     "data": {
      "image/png": "[encoded data removed]",
      "text/plain": [
       "<Figure size 1008x1008 with 1 Axes>"
      ]
     },
     "metadata": {
      "needs_background": "light"
     },
     "output_type": "display_data"
    }
   ],
   "source": [
    "plt.figure(figsize=(14, 14))\n",
    "users['Age'].hist()  \n",
    "plt.title('Users age distribution')\n",
    "plt.show()"
   ]
  },
  {
   "cell_type": "markdown",
   "id": "bc5243b4",
   "metadata": {},
   "source": [
    "### A lot of users do not have an age associated with them, which could be a meaningful metric. As for remaining ones, it may be seen that the most of them is 50 years old or younger, however, there also those who are above 100 or close to 0, which is quite doubtful. "
   ]
  },
  {
   "cell_type": "code",
   "execution_count": 19,
   "id": "51ba1d69",
   "metadata": {},
   "outputs": [
    {
     "data": {
      "text/html": [
       "<div>\n",
       "<style scoped>\n",
       "    .dataframe tbody tr th:only-of-type {\n",
       "        vertical-align: middle;\n",
       "    }\n",
       "\n",
       "    .dataframe tbody tr th {\n",
       "        vertical-align: top;\n",
       "    }\n",
       "\n",
       "    .dataframe thead th {\n",
       "        text-align: right;\n",
       "    }\n",
       "</style>\n",
       "<table border=\"1\" class=\"dataframe\">\n",
       "  <thead>\n",
       "    <tr style=\"text-align: right;\">\n",
       "      <th></th>\n",
       "      <th>ISBN</th>\n",
       "      <th>Book-Title</th>\n",
       "      <th>Book-Author</th>\n",
       "      <th>Year-Of-Publication</th>\n",
       "      <th>Publisher</th>\n",
       "      <th>Image-URL-S</th>\n",
       "      <th>Image-URL-M</th>\n",
       "      <th>Image-URL-L</th>\n",
       "    </tr>\n",
       "  </thead>\n",
       "  <tbody>\n",
       "    <tr>\n",
       "      <th>0</th>\n",
       "      <td>0195153448</td>\n",
       "      <td>Classical Mythology</td>\n",
       "      <td>Mark P. O. Morford</td>\n",
       "      <td>2002</td>\n",
       "      <td>Oxford University Press</td>\n",
       "      <td>http://images.amazon.com/images/P/0195153448.0...</td>\n",
       "      <td>http://images.amazon.com/images/P/0195153448.0...</td>\n",
       "      <td>http://images.amazon.com/images/P/0195153448.0...</td>\n",
       "    </tr>\n",
       "    <tr>\n",
       "      <th>1</th>\n",
       "      <td>0002005018</td>\n",
       "      <td>Clara Callan</td>\n",
       "      <td>Richard Bruce Wright</td>\n",
       "      <td>2001</td>\n",
       "      <td>HarperFlamingo Canada</td>\n",
       "      <td>http://images.amazon.com/images/P/0002005018.0...</td>\n",
       "      <td>http://images.amazon.com/images/P/0002005018.0...</td>\n",
       "      <td>http://images.amazon.com/images/P/0002005018.0...</td>\n",
       "    </tr>\n",
       "    <tr>\n",
       "      <th>2</th>\n",
       "      <td>0060973129</td>\n",
       "      <td>Decision in Normandy</td>\n",
       "      <td>Carlo D'Este</td>\n",
       "      <td>1991</td>\n",
       "      <td>HarperPerennial</td>\n",
       "      <td>http://images.amazon.com/images/P/0060973129.0...</td>\n",
       "      <td>http://images.amazon.com/images/P/0060973129.0...</td>\n",
       "      <td>http://images.amazon.com/images/P/0060973129.0...</td>\n",
       "    </tr>\n",
       "    <tr>\n",
       "      <th>3</th>\n",
       "      <td>0374157065</td>\n",
       "      <td>Flu: The Story of the Great Influenza Pandemic...</td>\n",
       "      <td>Gina Bari Kolata</td>\n",
       "      <td>1999</td>\n",
       "      <td>Farrar Straus Giroux</td>\n",
       "      <td>http://images.amazon.com/images/P/0374157065.0...</td>\n",
       "      <td>http://images.amazon.com/images/P/0374157065.0...</td>\n",
       "      <td>http://images.amazon.com/images/P/0374157065.0...</td>\n",
       "    </tr>\n",
       "    <tr>\n",
       "      <th>4</th>\n",
       "      <td>0393045218</td>\n",
       "      <td>The Mummies of Urumchi</td>\n",
       "      <td>E. J. W. Barber</td>\n",
       "      <td>1999</td>\n",
       "      <td>W. W. Norton &amp;amp; Company</td>\n",
       "      <td>http://images.amazon.com/images/P/0393045218.0...</td>\n",
       "      <td>http://images.amazon.com/images/P/0393045218.0...</td>\n",
       "      <td>http://images.amazon.com/images/P/0393045218.0...</td>\n",
       "    </tr>\n",
       "  </tbody>\n",
       "</table>\n",
       "</div>"
      ],
      "text/plain": [
       "         ISBN                                         Book-Title  \\\n",
       "0  0195153448                                Classical Mythology   \n",
       "1  0002005018                                       Clara Callan   \n",
       "2  0060973129                               Decision in Normandy   \n",
       "3  0374157065  Flu: The Story of the Great Influenza Pandemic...   \n",
       "4  0393045218                             The Mummies of Urumchi   \n",
       "\n",
       "            Book-Author Year-Of-Publication                   Publisher  \\\n",
       "0    Mark P. O. Morford                2002     Oxford University Press   \n",
       "1  Richard Bruce Wright                2001       HarperFlamingo Canada   \n",
       "2          Carlo D'Este                1991             HarperPerennial   \n",
       "3      Gina Bari Kolata                1999        Farrar Straus Giroux   \n",
       "4       E. J. W. Barber                1999  W. W. Norton &amp; Company   \n",
       "\n",
       "                                         Image-URL-S  \\\n",
       "0  http://images.amazon.com/images/P/0195153448.0...   \n",
       "1  http://images.amazon.com/images/P/0002005018.0...   \n",
       "2  http://images.amazon.com/images/P/0060973129.0...   \n",
       "3  http://images.amazon.com/images/P/0374157065.0...   \n",
       "4  http://images.amazon.com/images/P/0393045218.0...   \n",
       "\n",
       "                                         Image-URL-M  \\\n",
       "0  http://images.amazon.com/images/P/0195153448.0...   \n",
       "1  http://images.amazon.com/images/P/0002005018.0...   \n",
       "2  http://images.amazon.com/images/P/0060973129.0...   \n",
       "3  http://images.amazon.com/images/P/0374157065.0...   \n",
       "4  http://images.amazon.com/images/P/0393045218.0...   \n",
       "\n",
       "                                         Image-URL-L  \n",
       "0  http://images.amazon.com/images/P/0195153448.0...  \n",
       "1  http://images.amazon.com/images/P/0002005018.0...  \n",
       "2  http://images.amazon.com/images/P/0060973129.0...  \n",
       "3  http://images.amazon.com/images/P/0374157065.0...  \n",
       "4  http://images.amazon.com/images/P/0393045218.0...  "
      ]
     },
     "execution_count": 19,
     "metadata": {},
     "output_type": "execute_result"
    }
   ],
   "source": [
    "books.head()"
   ]
  },
  {
   "cell_type": "markdown",
   "id": "7366860d",
   "metadata": {},
   "source": [
    "### Columns referring to URLs won't provide any useful information"
   ]
  },
  {
   "cell_type": "code",
   "execution_count": 20,
   "id": "06ad4602",
   "metadata": {},
   "outputs": [],
   "source": [
    "books.drop([col for col in books.columns if col.startswith('Image')], axis=1, inplace=True)"
   ]
  },
  {
   "cell_type": "code",
   "execution_count": 21,
   "id": "7454bf68",
   "metadata": {},
   "outputs": [
    {
     "name": "stdout",
     "output_type": "stream",
     "text": [
      "<class 'pandas.core.frame.DataFrame'>\n",
      "RangeIndex: 271360 entries, 0 to 271359\n",
      "Data columns (total 5 columns):\n",
      " #   Column               Non-Null Count   Dtype \n",
      "---  ------               --------------   ----- \n",
      " 0   ISBN                 271360 non-null  object\n",
      " 1   Book-Title           271360 non-null  object\n",
      " 2   Book-Author          271359 non-null  object\n",
      " 3   Year-Of-Publication  271360 non-null  object\n",
      " 4   Publisher            271358 non-null  object\n",
      "dtypes: object(5)\n",
      "memory usage: 10.4+ MB\n"
     ]
    }
   ],
   "source": [
    "books.info()"
   ]
  },
  {
   "cell_type": "markdown",
   "id": "4ec50b78",
   "metadata": {},
   "source": [
    "### Some records do not contain information about an author or a publisher "
   ]
  },
  {
   "cell_type": "code",
   "execution_count": 22,
   "id": "3c2bc4c3",
   "metadata": {},
   "outputs": [],
   "source": [
    "books.dropna(subset=['Book-Author', 'Publisher'], inplace=True)"
   ]
  },
  {
   "cell_type": "code",
   "execution_count": 23,
   "id": "3b936c43",
   "metadata": {},
   "outputs": [
    {
     "data": {
      "text/plain": [
       "array([2002, 2001, 1991, 1999, 2000, 1993, 1996, 1988, 2004, 1998, 1994,\n",
       "       2003, 1997, 1983, 1979, 1995, 1982, 1985, 1992, 1986, 1978, 1980,\n",
       "       1952, 1987, 1990, 1981, 1989, 1984, 0, 1968, 1961, 1958, 1974,\n",
       "       1976, 1971, 1977, 1975, 1965, 1941, 1970, 1962, 1973, 1972, 1960,\n",
       "       1966, 1920, 1956, 1959, 1953, 1951, 1942, 1963, 1964, 1969, 1954,\n",
       "       1950, 1967, 2005, 1957, 1940, 1937, 1955, 1946, 1936, 1930, 2011,\n",
       "       1925, 1948, 1943, 1947, 1945, 1923, 2020, 1939, 1926, 1938, 2030,\n",
       "       1911, 1904, 1949, 1932, 1928, 1929, 1927, 1931, 1914, 2050, 1934,\n",
       "       1910, 1933, 1902, 1924, 1921, 1900, 2038, 2026, 1944, 1917, 1901,\n",
       "       2010, 1908, 1906, 1935, 1806, 2021, '2000', '1995', '1999', '2004',\n",
       "       '2003', '1990', '1994', '1986', '1989', '2002', '1981', '1993',\n",
       "       '1983', '1982', '1976', '1991', '1977', '1998', '1992', '1996',\n",
       "       '0', '1997', '2001', '1974', '1968', '1987', '1984', '1988',\n",
       "       '1963', '1956', '1970', '1985', '1978', '1973', '1980', '1979',\n",
       "       '1975', '1969', '1961', '1965', '1939', '1958', '1950', '1953',\n",
       "       '1966', '1971', '1959', '1972', '1955', '1957', '1945', '1960',\n",
       "       '1967', '1932', '1924', '1964', '2012', '1911', '1927', '1948',\n",
       "       '1962', '2006', '1952', '1940', '1951', '1931', '1954', '2005',\n",
       "       '1930', '1941', '1944', 'DK Publishing Inc', '1943', '1938',\n",
       "       '1900', '1942', '1923', '1920', '1933', 'Gallimard', '1909',\n",
       "       '1946', '2008', '1378', '2030', '1936', '1947', '2011', '2020',\n",
       "       '1919', '1949', '1922', '1897', '2024', '1376', '1926', '2037'],\n",
       "      dtype=object)"
      ]
     },
     "execution_count": 23,
     "metadata": {},
     "output_type": "execute_result"
    }
   ],
   "source": [
    "books['Year-Of-Publication'].unique()"
   ]
  },
  {
   "cell_type": "markdown",
   "id": "62710220",
   "metadata": {},
   "source": [
    "### Some years are corrupted, i.e. 0 or a string instead of a numeric value, therefore, such should be cleaned"
   ]
  },
  {
   "cell_type": "code",
   "execution_count": 24,
   "id": "e5d8fe8e",
   "metadata": {},
   "outputs": [],
   "source": [
    "def convert_release_year(record):\n",
    "    try:\n",
    "        record = int(record)\n",
    "        if record == 0 or record > 2004:  # the dataset was published in 2004\n",
    "            return np.NaN\n",
    "        else:\n",
    "            return record\n",
    "    except ValueError:  # some strings are not numeric\n",
    "        return np.NaN  "
   ]
  },
  {
   "cell_type": "code",
   "execution_count": 25,
   "id": "69bf197e",
   "metadata": {},
   "outputs": [],
   "source": [
    "books['Year'] = books['Year-Of-Publication'].apply(lambda x: convert_release_year(x))"
   ]
  },
  {
   "cell_type": "code",
   "execution_count": 26,
   "id": "82d63e3b",
   "metadata": {},
   "outputs": [],
   "source": [
    "books.drop('Year-Of-Publication', axis=1, inplace=True)  # this column is no longer necessary"
   ]
  },
  {
   "cell_type": "code",
   "execution_count": 27,
   "id": "4fa74ea8",
   "metadata": {},
   "outputs": [
    {
     "data": {
      "text/plain": [
       "False    266664\n",
       "True       4693\n",
       "Name: Year, dtype: int64"
      ]
     },
     "execution_count": 27,
     "metadata": {},
     "output_type": "execute_result"
    }
   ],
   "source": [
    "books['Year'].isna().value_counts()"
   ]
  },
  {
   "cell_type": "code",
   "execution_count": 28,
   "id": "c53a41bb",
   "metadata": {},
   "outputs": [
    {
     "data": {
      "image/png": "[encoded data removed]",
      "text/plain": [
       "<Figure size 1008x1008 with 1 Axes>"
      ]
     },
     "metadata": {
      "needs_background": "light"
     },
     "output_type": "display_data"
    }
   ],
   "source": [
    "plt.figure(figsize=(14, 14))\n",
    "books['Year'].hist()\n",
    "plt.title('Distribtuion of books release dates')\n",
    "plt.show()"
   ]
  },
  {
   "cell_type": "markdown",
   "id": "46a3c24d",
   "metadata": {},
   "source": [
    "### Almost all books are modern, i.e. written in the second half of the XX century"
   ]
  },
  {
   "cell_type": "code",
   "execution_count": 29,
   "id": "a045a894",
   "metadata": {},
   "outputs": [
    {
     "data": {
      "text/plain": [
       "Agatha Christie         632\n",
       "William Shakespeare     567\n",
       "Stephen King            524\n",
       "Ann M. Martin           423\n",
       "Carolyn Keene           373\n",
       "                       ... \n",
       "Linda Jackson             1\n",
       "Artiste C. Arthur         1\n",
       "Emily Pearl Kingsley      1\n",
       "Jean Cassels              1\n",
       "Christopher  Biffle       1\n",
       "Name: Book-Author, Length: 102022, dtype: int64"
      ]
     },
     "execution_count": 29,
     "metadata": {},
     "output_type": "execute_result"
    }
   ],
   "source": [
    "books['Book-Author'].value_counts()"
   ]
  },
  {
   "cell_type": "code",
   "execution_count": 30,
   "id": "47cc3e15",
   "metadata": {},
   "outputs": [
    {
     "data": {
      "text/plain": [
       "Harlequin                  7535\n",
       "Silhouette                 4220\n",
       "Pocket                     3905\n",
       "Ballantine Books           3783\n",
       "Bantam Books               3646\n",
       "                           ... \n",
       "Polaris Books                 1\n",
       "Hannover House                1\n",
       "Amber Quill Press, LLC.       1\n",
       "Lunchbox Press                1\n",
       "Connaught                     1\n",
       "Name: Publisher, Length: 16806, dtype: int64"
      ]
     },
     "execution_count": 30,
     "metadata": {},
     "output_type": "execute_result"
    }
   ],
   "source": [
    "books['Publisher'].value_counts()"
   ]
  },
  {
   "cell_type": "markdown",
   "id": "097cc911",
   "metadata": {},
   "source": [
    "### There is a lot of unique publishers and authors and, additionally, number of books published/written by them may vary significantly"
   ]
  },
  {
   "cell_type": "code",
   "execution_count": 31,
   "id": "4127b127",
   "metadata": {},
   "outputs": [
    {
     "data": {
      "text/plain": [
       "False"
      ]
     },
     "execution_count": 31,
     "metadata": {},
     "output_type": "execute_result"
    }
   ],
   "source": [
    "books['ISBN'].nunique() == books['Book-Title'].nunique()"
   ]
  },
  {
   "cell_type": "markdown",
   "id": "7d33971f",
   "metadata": {},
   "source": [
    "### Some books may have multiple ISBNs"
   ]
  },
  {
   "cell_type": "code",
   "execution_count": 32,
   "id": "efe65ada",
   "metadata": {},
   "outputs": [
    {
     "data": {
      "text/html": [
       "<div>\n",
       "<style scoped>\n",
       "    .dataframe tbody tr th:only-of-type {\n",
       "        vertical-align: middle;\n",
       "    }\n",
       "\n",
       "    .dataframe tbody tr th {\n",
       "        vertical-align: top;\n",
       "    }\n",
       "\n",
       "    .dataframe thead th {\n",
       "        text-align: right;\n",
       "    }\n",
       "</style>\n",
       "<table border=\"1\" class=\"dataframe\">\n",
       "  <thead>\n",
       "    <tr style=\"text-align: right;\">\n",
       "      <th></th>\n",
       "      <th>User-ID</th>\n",
       "      <th>ISBN</th>\n",
       "      <th>Book-Rating</th>\n",
       "    </tr>\n",
       "  </thead>\n",
       "  <tbody>\n",
       "    <tr>\n",
       "      <th>0</th>\n",
       "      <td>276725</td>\n",
       "      <td>034545104X</td>\n",
       "      <td>0</td>\n",
       "    </tr>\n",
       "    <tr>\n",
       "      <th>1</th>\n",
       "      <td>276726</td>\n",
       "      <td>0155061224</td>\n",
       "      <td>5</td>\n",
       "    </tr>\n",
       "    <tr>\n",
       "      <th>2</th>\n",
       "      <td>276727</td>\n",
       "      <td>0446520802</td>\n",
       "      <td>0</td>\n",
       "    </tr>\n",
       "    <tr>\n",
       "      <th>3</th>\n",
       "      <td>276729</td>\n",
       "      <td>052165615X</td>\n",
       "      <td>3</td>\n",
       "    </tr>\n",
       "    <tr>\n",
       "      <th>4</th>\n",
       "      <td>276729</td>\n",
       "      <td>0521795028</td>\n",
       "      <td>6</td>\n",
       "    </tr>\n",
       "  </tbody>\n",
       "</table>\n",
       "</div>"
      ],
      "text/plain": [
       "   User-ID        ISBN  Book-Rating\n",
       "0   276725  034545104X            0\n",
       "1   276726  0155061224            5\n",
       "2   276727  0446520802            0\n",
       "3   276729  052165615X            3\n",
       "4   276729  0521795028            6"
      ]
     },
     "execution_count": 32,
     "metadata": {},
     "output_type": "execute_result"
    }
   ],
   "source": [
    "ratings.head()"
   ]
  },
  {
   "cell_type": "code",
   "execution_count": 33,
   "id": "2619757c",
   "metadata": {},
   "outputs": [
    {
     "name": "stdout",
     "output_type": "stream",
     "text": [
      "<class 'pandas.core.frame.DataFrame'>\n",
      "RangeIndex: 1149780 entries, 0 to 1149779\n",
      "Data columns (total 3 columns):\n",
      " #   Column       Non-Null Count    Dtype \n",
      "---  ------       --------------    ----- \n",
      " 0   User-ID      1149780 non-null  int64 \n",
      " 1   ISBN         1149780 non-null  object\n",
      " 2   Book-Rating  1149780 non-null  int64 \n",
      "dtypes: int64(2), object(1)\n",
      "memory usage: 26.3+ MB\n"
     ]
    }
   ],
   "source": [
    "ratings.info()"
   ]
  },
  {
   "cell_type": "code",
   "execution_count": 34,
   "id": "6f152627",
   "metadata": {},
   "outputs": [
    {
     "data": {
      "image/png": "[encoded data removed]",
      "text/plain": [
       "<Figure size 1008x1008 with 1 Axes>"
      ]
     },
     "metadata": {
      "needs_background": "light"
     },
     "output_type": "display_data"
    }
   ],
   "source": [
    "plt.figure(figsize=(14, 14))\n",
    "ratings['Book-Rating'].hist()\n",
    "plt.title('Distribution of ratings')\n",
    "plt.show()"
   ]
  },
  {
   "cell_type": "markdown",
   "id": "2e06381e",
   "metadata": {},
   "source": [
    "### Most of grades are 0, which is rather not reliable - users probably acted in emotions or some external factors could apply"
   ]
  },
  {
   "cell_type": "code",
   "execution_count": 35,
   "id": "fca598e5",
   "metadata": {},
   "outputs": [],
   "source": [
    "ratings['Book-Rating'] = ratings['Book-Rating'].apply(lambda x: np.NaN if x == 0 else x)"
   ]
  },
  {
   "cell_type": "code",
   "execution_count": 36,
   "id": "20ba0d32",
   "metadata": {},
   "outputs": [],
   "source": [
    "ratings.dropna(how='any', inplace=True)"
   ]
  },
  {
   "cell_type": "code",
   "execution_count": 37,
   "id": "4faf4dd9",
   "metadata": {},
   "outputs": [
    {
     "data": {
      "text/plain": [
       "433671"
      ]
     },
     "execution_count": 37,
     "metadata": {},
     "output_type": "execute_result"
    }
   ],
   "source": [
    "ratings.shape[0]"
   ]
  },
  {
   "cell_type": "code",
   "execution_count": 38,
   "id": "7a3628f8",
   "metadata": {},
   "outputs": [
    {
     "data": {
      "image/png": "[encoded data removed]",
      "text/plain": [
       "<Figure size 1008x1008 with 1 Axes>"
      ]
     },
     "metadata": {
      "needs_background": "light"
     },
     "output_type": "display_data"
    }
   ],
   "source": [
    "plt.figure(figsize=(14, 14))\n",
    "ratings['Book-Rating'].hist()\n",
    "plt.title('Distribution of ratings')\n",
    "plt.show()"
   ]
  },
  {
   "cell_type": "markdown",
   "id": "a82f79ea",
   "metadata": {},
   "source": [
    "# Recommendation system"
   ]
  },
  {
   "cell_type": "markdown",
   "id": "7173e11e",
   "metadata": {},
   "source": [
    "### Recommendation system is supposed to propose a book based on its average rating - it's assumed that every book should be graded at leat twice to provide more reliability - and user's reading history (to avoid suggesting a book user has read)"
   ]
  },
  {
   "cell_type": "code",
   "execution_count": 39,
   "id": "1646bcc9",
   "metadata": {},
   "outputs": [
    {
     "data": {
      "text/plain": [
       "True     383839\n",
       "False     49832\n",
       "Name: ISBN, dtype: int64"
      ]
     },
     "execution_count": 39,
     "metadata": {},
     "output_type": "execute_result"
    }
   ],
   "source": [
    "ratings['ISBN'].isin(books['ISBN']).value_counts()"
   ]
  },
  {
   "cell_type": "markdown",
   "id": "fcf651ef",
   "metadata": {},
   "source": [
    "### Some rated books are not present in the 'books' dataset, thus they should be removed as there won't be necessary information about them"
   ]
  },
  {
   "cell_type": "code",
   "execution_count": 40,
   "id": "348920e3",
   "metadata": {},
   "outputs": [],
   "source": [
    "ratings_recommendations = ratings[ratings['ISBN'].isin(books['ISBN'])] "
   ]
  },
  {
   "cell_type": "code",
   "execution_count": 41,
   "id": "271fd51a",
   "metadata": {},
   "outputs": [
    {
     "data": {
      "text/plain": [
       "383839"
      ]
     },
     "execution_count": 41,
     "metadata": {},
     "output_type": "execute_result"
    }
   ],
   "source": [
    "ratings_recommendations.shape[0]"
   ]
  },
  {
   "cell_type": "markdown",
   "id": "3adf9eff",
   "metadata": {},
   "source": [
    "### Each book should be graded at least twice, so each ISBN should be present at least two times:"
   ]
  },
  {
   "cell_type": "code",
   "execution_count": 42,
   "id": "21419a4f",
   "metadata": {},
   "outputs": [],
   "source": [
    "books_to_consider = (ratings_recommendations['ISBN'].value_counts() > 1).apply(lambda x: np.NaN if x is False else x).dropna(how='any').index"
   ]
  },
  {
   "cell_type": "code",
   "execution_count": 43,
   "id": "9a3c1c03",
   "metadata": {},
   "outputs": [
    {
     "data": {
      "text/plain": [
       "Index(['0316666343', '0971880107', '0385504209', '0312195516', '0060928336',\n",
       "       '059035342X', '0142001740', '0446672211', '044023722X', '0452282152',\n",
       "       ...\n",
       "       '042518465X', '0345253892', '0671647482', '0060153016', '0307101711',\n",
       "       '0452265622', '1566913578', '033035647X', '0689822855', '0060288132'],\n",
       "      dtype='object', length=50423)"
      ]
     },
     "execution_count": 43,
     "metadata": {},
     "output_type": "execute_result"
    }
   ],
   "source": [
    "books_to_consider"
   ]
  },
  {
   "cell_type": "code",
   "execution_count": 44,
   "id": "2ba8e9cc",
   "metadata": {},
   "outputs": [],
   "source": [
    "ratings_recommendations = ratings_recommendations[ratings_recommendations['ISBN'].isin(books_to_consider)]"
   ]
  },
  {
   "cell_type": "code",
   "execution_count": 45,
   "id": "37f796bd",
   "metadata": {},
   "outputs": [
    {
     "data": {
      "text/plain": [
       "284429"
      ]
     },
     "execution_count": 45,
     "metadata": {},
     "output_type": "execute_result"
    }
   ],
   "source": [
    "ratings_recommendations.shape[0]"
   ]
  },
  {
   "cell_type": "code",
   "execution_count": 46,
   "id": "1e13dba2",
   "metadata": {},
   "outputs": [
    {
     "data": {
      "text/html": [
       "<div>\n",
       "<style scoped>\n",
       "    .dataframe tbody tr th:only-of-type {\n",
       "        vertical-align: middle;\n",
       "    }\n",
       "\n",
       "    .dataframe tbody tr th {\n",
       "        vertical-align: top;\n",
       "    }\n",
       "\n",
       "    .dataframe thead th {\n",
       "        text-align: right;\n",
       "    }\n",
       "</style>\n",
       "<table border=\"1\" class=\"dataframe\">\n",
       "  <thead>\n",
       "    <tr style=\"text-align: right;\">\n",
       "      <th></th>\n",
       "      <th>User-ID</th>\n",
       "      <th>ISBN</th>\n",
       "      <th>Book-Rating</th>\n",
       "    </tr>\n",
       "  </thead>\n",
       "  <tbody>\n",
       "    <tr>\n",
       "      <th>8</th>\n",
       "      <td>276744</td>\n",
       "      <td>038550120X</td>\n",
       "      <td>7.0</td>\n",
       "    </tr>\n",
       "    <tr>\n",
       "      <th>16</th>\n",
       "      <td>276747</td>\n",
       "      <td>0060517794</td>\n",
       "      <td>9.0</td>\n",
       "    </tr>\n",
       "    <tr>\n",
       "      <th>19</th>\n",
       "      <td>276747</td>\n",
       "      <td>0671537458</td>\n",
       "      <td>9.0</td>\n",
       "    </tr>\n",
       "    <tr>\n",
       "      <th>20</th>\n",
       "      <td>276747</td>\n",
       "      <td>0679776818</td>\n",
       "      <td>8.0</td>\n",
       "    </tr>\n",
       "    <tr>\n",
       "      <th>24</th>\n",
       "      <td>276748</td>\n",
       "      <td>0747558167</td>\n",
       "      <td>6.0</td>\n",
       "    </tr>\n",
       "  </tbody>\n",
       "</table>\n",
       "</div>"
      ],
      "text/plain": [
       "    User-ID        ISBN  Book-Rating\n",
       "8    276744  038550120X          7.0\n",
       "16   276747  0060517794          9.0\n",
       "19   276747  0671537458          9.0\n",
       "20   276747  0679776818          8.0\n",
       "24   276748  0747558167          6.0"
      ]
     },
     "execution_count": 46,
     "metadata": {},
     "output_type": "execute_result"
    }
   ],
   "source": [
    "ratings_recommendations.head()"
   ]
  },
  {
   "cell_type": "code",
   "execution_count": 47,
   "id": "582b1bce",
   "metadata": {},
   "outputs": [],
   "source": [
    "books_recommendation = books.merge(ratings_recommendations.drop('User-ID', axis=1).groupby('ISBN').mean(), on='ISBN')\\\n",
    "                            .sort_values(['Book-Rating', 'Book-Author'], ascending=False)"
   ]
  },
  {
   "cell_type": "code",
   "execution_count": 48,
   "id": "a3621b5c",
   "metadata": {
    "scrolled": true
   },
   "outputs": [
    {
     "data": {
      "text/html": [
       "<div>\n",
       "<style scoped>\n",
       "    .dataframe tbody tr th:only-of-type {\n",
       "        vertical-align: middle;\n",
       "    }\n",
       "\n",
       "    .dataframe tbody tr th {\n",
       "        vertical-align: top;\n",
       "    }\n",
       "\n",
       "    .dataframe thead th {\n",
       "        text-align: right;\n",
       "    }\n",
       "</style>\n",
       "<table border=\"1\" class=\"dataframe\">\n",
       "  <thead>\n",
       "    <tr style=\"text-align: right;\">\n",
       "      <th></th>\n",
       "      <th>ISBN</th>\n",
       "      <th>Book-Title</th>\n",
       "      <th>Book-Author</th>\n",
       "      <th>Publisher</th>\n",
       "      <th>Year</th>\n",
       "      <th>Book-Rating</th>\n",
       "    </tr>\n",
       "  </thead>\n",
       "  <tbody>\n",
       "    <tr>\n",
       "      <th>49612</th>\n",
       "      <td>0743466985</td>\n",
       "      <td>The Sisters of APF : The Indoctrination of Sor...</td>\n",
       "      <td>Zane</td>\n",
       "      <td>Atria Books</td>\n",
       "      <td>2003.0</td>\n",
       "      <td>10.0</td>\n",
       "    </tr>\n",
       "    <tr>\n",
       "      <th>47962</th>\n",
       "      <td>0615114776</td>\n",
       "      <td>A Twinkle In His Eye</td>\n",
       "      <td>Yvette M. Burton</td>\n",
       "      <td>Shooting Star Pub</td>\n",
       "      <td>2000.0</td>\n",
       "      <td>10.0</td>\n",
       "    </tr>\n",
       "    <tr>\n",
       "      <th>48807</th>\n",
       "      <td>0963056611</td>\n",
       "      <td>A Quest Among the Bewildered</td>\n",
       "      <td>Wulf Zendik</td>\n",
       "      <td>Zendik Communal Arts</td>\n",
       "      <td>2001.0</td>\n",
       "      <td>10.0</td>\n",
       "    </tr>\n",
       "    <tr>\n",
       "      <th>48210</th>\n",
       "      <td>1566191416</td>\n",
       "      <td>Frankenstein</td>\n",
       "      <td>Wollstonecraft Mary Shelley</td>\n",
       "      <td>Dorset Press</td>\n",
       "      <td>1993.0</td>\n",
       "      <td>10.0</td>\n",
       "    </tr>\n",
       "    <tr>\n",
       "      <th>24045</th>\n",
       "      <td>3498090275</td>\n",
       "      <td>Das Gesamtwerk.</td>\n",
       "      <td>Wolfgang Borchert</td>\n",
       "      <td>Rowohlt, Reinbek</td>\n",
       "      <td>1996.0</td>\n",
       "      <td>10.0</td>\n",
       "    </tr>\n",
       "    <tr>\n",
       "      <th>43343</th>\n",
       "      <td>0330344951</td>\n",
       "      <td>Ross Poldark (Poldark Saga)</td>\n",
       "      <td>Winston Graham</td>\n",
       "      <td>Pan Books - Macmillan UK</td>\n",
       "      <td>1996.0</td>\n",
       "      <td>10.0</td>\n",
       "    </tr>\n",
       "    <tr>\n",
       "      <th>49893</th>\n",
       "      <td>0385323301</td>\n",
       "      <td>Where the Red Fern Grows: The Story of Two Dog...</td>\n",
       "      <td>Wilson Rawls</td>\n",
       "      <td>Delacorte Press</td>\n",
       "      <td>1996.0</td>\n",
       "      <td>10.0</td>\n",
       "    </tr>\n",
       "    <tr>\n",
       "      <th>47337</th>\n",
       "      <td>0898158265</td>\n",
       "      <td>Composition With Cat: Lost Masterpieces of the...</td>\n",
       "      <td>William Warmack</td>\n",
       "      <td>Ten Speed Press</td>\n",
       "      <td>1997.0</td>\n",
       "      <td>10.0</td>\n",
       "    </tr>\n",
       "    <tr>\n",
       "      <th>32741</th>\n",
       "      <td>0679602895</td>\n",
       "      <td>Sophie's Choice (Modern Library)</td>\n",
       "      <td>William Styron</td>\n",
       "      <td>Modern Library</td>\n",
       "      <td>1998.0</td>\n",
       "      <td>10.0</td>\n",
       "    </tr>\n",
       "    <tr>\n",
       "      <th>44400</th>\n",
       "      <td>0671666894</td>\n",
       "      <td>CDB!</td>\n",
       "      <td>William Steig</td>\n",
       "      <td>Aladdin</td>\n",
       "      <td>1987.0</td>\n",
       "      <td>10.0</td>\n",
       "    </tr>\n",
       "  </tbody>\n",
       "</table>\n",
       "</div>"
      ],
      "text/plain": [
       "             ISBN                                         Book-Title  \\\n",
       "49612  0743466985  The Sisters of APF : The Indoctrination of Sor...   \n",
       "47962  0615114776                               A Twinkle In His Eye   \n",
       "48807  0963056611                       A Quest Among the Bewildered   \n",
       "48210  1566191416                                       Frankenstein   \n",
       "24045  3498090275                                    Das Gesamtwerk.   \n",
       "43343  0330344951                        Ross Poldark (Poldark Saga)   \n",
       "49893  0385323301  Where the Red Fern Grows: The Story of Two Dog...   \n",
       "47337  0898158265  Composition With Cat: Lost Masterpieces of the...   \n",
       "32741  0679602895                   Sophie's Choice (Modern Library)   \n",
       "44400  0671666894                                               CDB!   \n",
       "\n",
       "                       Book-Author                 Publisher    Year  \\\n",
       "49612                         Zane               Atria Books  2003.0   \n",
       "47962             Yvette M. Burton         Shooting Star Pub  2000.0   \n",
       "48807                  Wulf Zendik      Zendik Communal Arts  2001.0   \n",
       "48210  Wollstonecraft Mary Shelley              Dorset Press  1993.0   \n",
       "24045            Wolfgang Borchert          Rowohlt, Reinbek  1996.0   \n",
       "43343               Winston Graham  Pan Books - Macmillan UK  1996.0   \n",
       "49893                 Wilson Rawls           Delacorte Press  1996.0   \n",
       "47337              William Warmack           Ten Speed Press  1997.0   \n",
       "32741               William Styron            Modern Library  1998.0   \n",
       "44400                William Steig                   Aladdin  1987.0   \n",
       "\n",
       "       Book-Rating  \n",
       "49612         10.0  \n",
       "47962         10.0  \n",
       "48807         10.0  \n",
       "48210         10.0  \n",
       "24045         10.0  \n",
       "43343         10.0  \n",
       "49893         10.0  \n",
       "47337         10.0  \n",
       "32741         10.0  \n",
       "44400         10.0  "
      ]
     },
     "execution_count": 48,
     "metadata": {},
     "output_type": "execute_result"
    }
   ],
   "source": [
    "books_recommendation.head(10)"
   ]
  },
  {
   "cell_type": "code",
   "execution_count": 49,
   "id": "52b44fa4",
   "metadata": {},
   "outputs": [
    {
     "data": {
      "text/plain": [
       "(50423, 6)"
      ]
     },
     "execution_count": 49,
     "metadata": {},
     "output_type": "execute_result"
    }
   ],
   "source": [
    "books_recommendation.shape"
   ]
  },
  {
   "cell_type": "markdown",
   "id": "c0fcb232",
   "metadata": {},
   "source": [
    "### An average rating of each book is added to the 'books' dataset, which will now contain only graded books so these which can be proposed to users"
   ]
  },
  {
   "cell_type": "markdown",
   "id": "6fdf242b",
   "metadata": {},
   "source": [
    "### Recommendation system will suggest 5 top books - based on highest ratings - which a user did not read:"
   ]
  },
  {
   "cell_type": "code",
   "execution_count": 51,
   "id": "e7a038b2",
   "metadata": {},
   "outputs": [],
   "source": [
    "def recommendations(user: int) -> list:\n",
    "    \n",
    "    books_read, books_suggestion, item_no = list(ratings_recommendations[ratings_recommendations['User-ID'] == user]['ISBN']),\\\n",
    "        list(), 0\n",
    "    \n",
    "    while len(books_suggestion) < 5:  # 5 top books\n",
    "        \n",
    "        item = books_recommendation.iloc[item_no]\n",
    "        if item['ISBN'] not in books_read:\n",
    "            \n",
    "            books_suggestion.append(item)\n",
    "            \n",
    "        item_no += 1\n",
    "        \n",
    "    print(\"\\nBooks recommended for user with ID {} are:\".format(user))\n",
    "    for i in range(5):\n",
    "        print(\"\"\"\\t\"{}\" written by {} and published by {} in {} with average rating {}\"\"\"\\\n",
    "                  .format(books_suggestion[i]['Book-Title'], books_suggestion[i]['Book-Author'], books_suggestion[i]['Publisher'],\n",
    "                         int(books_suggestion[i]['Year']), round(books_suggestion[i]['Book-Rating'], 1))\n",
    "             )\n",
    "    \n",
    "    return books_suggestion"
   ]
  },
  {
   "cell_type": "markdown",
   "id": "c8684ccb",
   "metadata": {},
   "source": [
    "### Recommendations for a user with ID 276747:"
   ]
  },
  {
   "cell_type": "code",
   "execution_count": 52,
   "id": "2153d1b3",
   "metadata": {},
   "outputs": [
    {
     "name": "stdout",
     "output_type": "stream",
     "text": [
      "\n",
      "Books recommended for user with ID 276747 are:\n",
      "\t\"The Sisters of APF : The Indoctrination of Soror Ride Dick\" written by Zane and published by Atria Books in 2003 with average rating 10.0\n",
      "\t\"A Twinkle In His Eye\" written by Yvette M. Burton and published by Shooting Star Pub in 2000 with average rating 10.0\n",
      "\t\"A Quest Among the Bewildered\" written by Wulf Zendik and published by Zendik Communal Arts in 2001 with average rating 10.0\n",
      "\t\"Frankenstein\" written by Wollstonecraft Mary Shelley and published by Dorset Press in 1993 with average rating 10.0\n",
      "\t\"Das Gesamtwerk.\" written by Wolfgang Borchert and published by Rowohlt, Reinbek in 1996 with average rating 10.0\n"
     ]
    }
   ],
   "source": [
    "result = recommendations(276747)"
   ]
  },
  {
   "cell_type": "code",
   "execution_count": 53,
   "id": "4c3e755e",
   "metadata": {},
   "outputs": [
    {
     "data": {
      "text/html": [
       "<div>\n",
       "<style scoped>\n",
       "    .dataframe tbody tr th:only-of-type {\n",
       "        vertical-align: middle;\n",
       "    }\n",
       "\n",
       "    .dataframe tbody tr th {\n",
       "        vertical-align: top;\n",
       "    }\n",
       "\n",
       "    .dataframe thead th {\n",
       "        text-align: right;\n",
       "    }\n",
       "</style>\n",
       "<table border=\"1\" class=\"dataframe\">\n",
       "  <thead>\n",
       "    <tr style=\"text-align: right;\">\n",
       "      <th></th>\n",
       "      <th>User-ID</th>\n",
       "      <th>ISBN</th>\n",
       "      <th>Book-Rating</th>\n",
       "    </tr>\n",
       "  </thead>\n",
       "  <tbody>\n",
       "    <tr>\n",
       "      <th>16</th>\n",
       "      <td>276747</td>\n",
       "      <td>0060517794</td>\n",
       "      <td>9.0</td>\n",
       "    </tr>\n",
       "    <tr>\n",
       "      <th>19</th>\n",
       "      <td>276747</td>\n",
       "      <td>0671537458</td>\n",
       "      <td>9.0</td>\n",
       "    </tr>\n",
       "    <tr>\n",
       "      <th>20</th>\n",
       "      <td>276747</td>\n",
       "      <td>0679776818</td>\n",
       "      <td>8.0</td>\n",
       "    </tr>\n",
       "  </tbody>\n",
       "</table>\n",
       "</div>"
      ],
      "text/plain": [
       "    User-ID        ISBN  Book-Rating\n",
       "16   276747  0060517794          9.0\n",
       "19   276747  0671537458          9.0\n",
       "20   276747  0679776818          8.0"
      ]
     },
     "execution_count": 53,
     "metadata": {},
     "output_type": "execute_result"
    }
   ],
   "source": [
    "ratings_recommendations[ratings_recommendations['User-ID'] == 276747]"
   ]
  },
  {
   "cell_type": "code",
   "execution_count": 54,
   "id": "ecf5ddb3",
   "metadata": {},
   "outputs": [
    {
     "data": {
      "text/html": [
       "<div>\n",
       "<style scoped>\n",
       "    .dataframe tbody tr th:only-of-type {\n",
       "        vertical-align: middle;\n",
       "    }\n",
       "\n",
       "    .dataframe tbody tr th {\n",
       "        vertical-align: top;\n",
       "    }\n",
       "\n",
       "    .dataframe thead th {\n",
       "        text-align: right;\n",
       "    }\n",
       "</style>\n",
       "<table border=\"1\" class=\"dataframe\">\n",
       "  <thead>\n",
       "    <tr style=\"text-align: right;\">\n",
       "      <th></th>\n",
       "      <th>ISBN</th>\n",
       "      <th>Book-Title</th>\n",
       "      <th>Book-Author</th>\n",
       "      <th>Publisher</th>\n",
       "      <th>Year</th>\n",
       "      <th>Book-Rating</th>\n",
       "    </tr>\n",
       "  </thead>\n",
       "  <tbody>\n",
       "    <tr>\n",
       "      <th>49612</th>\n",
       "      <td>0743466985</td>\n",
       "      <td>The Sisters of APF : The Indoctrination of Sor...</td>\n",
       "      <td>Zane</td>\n",
       "      <td>Atria Books</td>\n",
       "      <td>2003.0</td>\n",
       "      <td>10.0</td>\n",
       "    </tr>\n",
       "    <tr>\n",
       "      <th>47962</th>\n",
       "      <td>0615114776</td>\n",
       "      <td>A Twinkle In His Eye</td>\n",
       "      <td>Yvette M. Burton</td>\n",
       "      <td>Shooting Star Pub</td>\n",
       "      <td>2000.0</td>\n",
       "      <td>10.0</td>\n",
       "    </tr>\n",
       "    <tr>\n",
       "      <th>48807</th>\n",
       "      <td>0963056611</td>\n",
       "      <td>A Quest Among the Bewildered</td>\n",
       "      <td>Wulf Zendik</td>\n",
       "      <td>Zendik Communal Arts</td>\n",
       "      <td>2001.0</td>\n",
       "      <td>10.0</td>\n",
       "    </tr>\n",
       "    <tr>\n",
       "      <th>48210</th>\n",
       "      <td>1566191416</td>\n",
       "      <td>Frankenstein</td>\n",
       "      <td>Wollstonecraft Mary Shelley</td>\n",
       "      <td>Dorset Press</td>\n",
       "      <td>1993.0</td>\n",
       "      <td>10.0</td>\n",
       "    </tr>\n",
       "    <tr>\n",
       "      <th>24045</th>\n",
       "      <td>3498090275</td>\n",
       "      <td>Das Gesamtwerk.</td>\n",
       "      <td>Wolfgang Borchert</td>\n",
       "      <td>Rowohlt, Reinbek</td>\n",
       "      <td>1996.0</td>\n",
       "      <td>10.0</td>\n",
       "    </tr>\n",
       "  </tbody>\n",
       "</table>\n",
       "</div>"
      ],
      "text/plain": [
       "             ISBN                                         Book-Title  \\\n",
       "49612  0743466985  The Sisters of APF : The Indoctrination of Sor...   \n",
       "47962  0615114776                               A Twinkle In His Eye   \n",
       "48807  0963056611                       A Quest Among the Bewildered   \n",
       "48210  1566191416                                       Frankenstein   \n",
       "24045  3498090275                                    Das Gesamtwerk.   \n",
       "\n",
       "                       Book-Author             Publisher    Year  Book-Rating  \n",
       "49612                         Zane           Atria Books  2003.0         10.0  \n",
       "47962             Yvette M. Burton     Shooting Star Pub  2000.0         10.0  \n",
       "48807                  Wulf Zendik  Zendik Communal Arts  2001.0         10.0  \n",
       "48210  Wollstonecraft Mary Shelley          Dorset Press  1993.0         10.0  \n",
       "24045            Wolfgang Borchert      Rowohlt, Reinbek  1996.0         10.0  "
      ]
     },
     "execution_count": 54,
     "metadata": {},
     "output_type": "execute_result"
    }
   ],
   "source": [
    "books_recommendation.iloc[0:5]"
   ]
  },
  {
   "cell_type": "markdown",
   "id": "d7433f27",
   "metadata": {},
   "source": [
    "# Regression task"
   ]
  },
  {
   "cell_type": "markdown",
   "id": "f770fbbf",
   "metadata": {},
   "source": [
    "### A regression model will try to predict a future grades given by a user based on their information - age and location only in this case. Moreover, users must be filtered so that only those who have an age information remain"
   ]
  },
  {
   "cell_type": "code",
   "execution_count": 55,
   "id": "269a33b6",
   "metadata": {},
   "outputs": [
    {
     "data": {
      "text/html": [
       "<div>\n",
       "<style scoped>\n",
       "    .dataframe tbody tr th:only-of-type {\n",
       "        vertical-align: middle;\n",
       "    }\n",
       "\n",
       "    .dataframe tbody tr th {\n",
       "        vertical-align: top;\n",
       "    }\n",
       "\n",
       "    .dataframe thead th {\n",
       "        text-align: right;\n",
       "    }\n",
       "</style>\n",
       "<table border=\"1\" class=\"dataframe\">\n",
       "  <thead>\n",
       "    <tr style=\"text-align: right;\">\n",
       "      <th></th>\n",
       "      <th>User-ID</th>\n",
       "      <th>ISBN</th>\n",
       "      <th>Book-Rating</th>\n",
       "    </tr>\n",
       "  </thead>\n",
       "  <tbody>\n",
       "    <tr>\n",
       "      <th>1</th>\n",
       "      <td>276726</td>\n",
       "      <td>0155061224</td>\n",
       "      <td>5.0</td>\n",
       "    </tr>\n",
       "    <tr>\n",
       "      <th>3</th>\n",
       "      <td>276729</td>\n",
       "      <td>052165615X</td>\n",
       "      <td>3.0</td>\n",
       "    </tr>\n",
       "    <tr>\n",
       "      <th>4</th>\n",
       "      <td>276729</td>\n",
       "      <td>0521795028</td>\n",
       "      <td>6.0</td>\n",
       "    </tr>\n",
       "    <tr>\n",
       "      <th>6</th>\n",
       "      <td>276736</td>\n",
       "      <td>3257224281</td>\n",
       "      <td>8.0</td>\n",
       "    </tr>\n",
       "    <tr>\n",
       "      <th>7</th>\n",
       "      <td>276737</td>\n",
       "      <td>0600570967</td>\n",
       "      <td>6.0</td>\n",
       "    </tr>\n",
       "  </tbody>\n",
       "</table>\n",
       "</div>"
      ],
      "text/plain": [
       "   User-ID        ISBN  Book-Rating\n",
       "1   276726  0155061224          5.0\n",
       "3   276729  052165615X          3.0\n",
       "4   276729  0521795028          6.0\n",
       "6   276736  3257224281          8.0\n",
       "7   276737  0600570967          6.0"
      ]
     },
     "execution_count": 55,
     "metadata": {},
     "output_type": "execute_result"
    }
   ],
   "source": [
    "ratings.head()"
   ]
  },
  {
   "cell_type": "code",
   "execution_count": 56,
   "id": "80eba8b8",
   "metadata": {},
   "outputs": [],
   "source": [
    "ratings = ratings.drop('ISBN', axis=1)  # column is no longer necessary"
   ]
  },
  {
   "cell_type": "code",
   "execution_count": 57,
   "id": "d063a442",
   "metadata": {},
   "outputs": [
    {
     "data": {
      "text/html": [
       "<div>\n",
       "<style scoped>\n",
       "    .dataframe tbody tr th:only-of-type {\n",
       "        vertical-align: middle;\n",
       "    }\n",
       "\n",
       "    .dataframe tbody tr th {\n",
       "        vertical-align: top;\n",
       "    }\n",
       "\n",
       "    .dataframe thead th {\n",
       "        text-align: right;\n",
       "    }\n",
       "</style>\n",
       "<table border=\"1\" class=\"dataframe\">\n",
       "  <thead>\n",
       "    <tr style=\"text-align: right;\">\n",
       "      <th></th>\n",
       "      <th>User-ID</th>\n",
       "      <th>Location</th>\n",
       "      <th>Age</th>\n",
       "    </tr>\n",
       "  </thead>\n",
       "  <tbody>\n",
       "    <tr>\n",
       "      <th>0</th>\n",
       "      <td>1</td>\n",
       "      <td>usa</td>\n",
       "      <td>NaN</td>\n",
       "    </tr>\n",
       "    <tr>\n",
       "      <th>1</th>\n",
       "      <td>2</td>\n",
       "      <td>usa</td>\n",
       "      <td>18.0</td>\n",
       "    </tr>\n",
       "    <tr>\n",
       "      <th>2</th>\n",
       "      <td>3</td>\n",
       "      <td>russia</td>\n",
       "      <td>NaN</td>\n",
       "    </tr>\n",
       "    <tr>\n",
       "      <th>3</th>\n",
       "      <td>4</td>\n",
       "      <td>portugal</td>\n",
       "      <td>17.0</td>\n",
       "    </tr>\n",
       "    <tr>\n",
       "      <th>4</th>\n",
       "      <td>5</td>\n",
       "      <td>united kingdom</td>\n",
       "      <td>NaN</td>\n",
       "    </tr>\n",
       "  </tbody>\n",
       "</table>\n",
       "</div>"
      ],
      "text/plain": [
       "   User-ID        Location   Age\n",
       "0        1             usa   NaN\n",
       "1        2             usa  18.0\n",
       "2        3          russia   NaN\n",
       "3        4        portugal  17.0\n",
       "4        5  united kingdom   NaN"
      ]
     },
     "execution_count": 57,
     "metadata": {},
     "output_type": "execute_result"
    }
   ],
   "source": [
    "users.head()"
   ]
  },
  {
   "cell_type": "markdown",
   "id": "324812da",
   "metadata": {},
   "source": [
    "### We need only users for whom there is an informaion about their age as well as we need to filter that column to exclude some values, like 0 or aobve 100. As for their location, we will only consider top 7 countries to have enough data for each of them:"
   ]
  },
  {
   "cell_type": "code",
   "execution_count": 58,
   "id": "4ab969dd",
   "metadata": {},
   "outputs": [],
   "source": [
    "top_countries = users['Location'].value_counts()[:7].index"
   ]
  },
  {
   "cell_type": "code",
   "execution_count": 59,
   "id": "41d1e081",
   "metadata": {},
   "outputs": [
    {
     "data": {
      "text/plain": [
       "Index(['usa', 'canada', 'united kingdom', 'germany', 'spain', 'australia',\n",
       "       'italy'],\n",
       "      dtype='object')"
      ]
     },
     "execution_count": 59,
     "metadata": {},
     "output_type": "execute_result"
    }
   ],
   "source": [
    "top_countries"
   ]
  },
  {
   "cell_type": "code",
   "execution_count": 60,
   "id": "d89ee285",
   "metadata": {},
   "outputs": [],
   "source": [
    "def filter_age(record):\n",
    "    if record >= 18 and record < 100:  # only adults below 100 are considered\n",
    "        return int(record)\n",
    "    else:\n",
    "        return np.NaN"
   ]
  },
  {
   "cell_type": "code",
   "execution_count": 61,
   "id": "e6eca46f",
   "metadata": {},
   "outputs": [],
   "source": [
    "users = users[users['Location'].isin(top_countries)]"
   ]
  },
  {
   "cell_type": "code",
   "execution_count": 62,
   "id": "e0f42d86",
   "metadata": {},
   "outputs": [],
   "source": [
    "users['Age'] = users['Age'].apply(lambda x: filter_age(x))"
   ]
  },
  {
   "cell_type": "code",
   "execution_count": 63,
   "id": "96c29b27",
   "metadata": {},
   "outputs": [],
   "source": [
    "users = users.dropna(how='any')"
   ]
  },
  {
   "cell_type": "code",
   "execution_count": 64,
   "id": "25db60bc",
   "metadata": {},
   "outputs": [
    {
     "data": {
      "text/plain": [
       "(127754, 3)"
      ]
     },
     "execution_count": 64,
     "metadata": {},
     "output_type": "execute_result"
    }
   ],
   "source": [
    "users.shape"
   ]
  },
  {
   "cell_type": "code",
   "execution_count": 65,
   "id": "0ac9b161",
   "metadata": {},
   "outputs": [
    {
     "data": {
      "image/png": "[encoded data removed]",
      "text/plain": [
       "<Figure size 1440x864 with 2 Axes>"
      ]
     },
     "metadata": {
      "needs_background": "light"
     },
     "output_type": "display_data"
    }
   ],
   "source": [
    "plt.figure(figsize=(20, 12))\n",
    "\n",
    "plt.subplot(1, 2, 1)\n",
    "users['Location'].value_counts().plot(kind='bar', rot=40)\n",
    "plt.title('Users location distribution')\n",
    "\n",
    "plt.subplot(1, 2, 2)\n",
    "users['Age'].hist()\n",
    "plt.title('Users age distribution')\n",
    "\n",
    "plt.show()"
   ]
  },
  {
   "cell_type": "markdown",
   "id": "3db30b22",
   "metadata": {},
   "source": [
    "### Encoding users country data:"
   ]
  },
  {
   "cell_type": "code",
   "execution_count": 66,
   "id": "d6e8d0fb",
   "metadata": {},
   "outputs": [],
   "source": [
    "encoder_location = OneHotEncoder(drop='first', sparse=False)"
   ]
  },
  {
   "cell_type": "code",
   "execution_count": 67,
   "id": "710b568b",
   "metadata": {},
   "outputs": [],
   "source": [
    "encoded_countries = encoder_location.fit_transform(np.array(users['Location']).reshape(-1, 1))"
   ]
  },
  {
   "cell_type": "code",
   "execution_count": 68,
   "id": "30af8493",
   "metadata": {},
   "outputs": [
    {
     "data": {
      "text/plain": [
       "array([[0., 0., 0., 0., 0., 1.],\n",
       "       [0., 0., 0., 0., 0., 1.],\n",
       "       [0., 0., 0., 1., 0., 0.],\n",
       "       ...,\n",
       "       [0., 0., 0., 0., 0., 1.],\n",
       "       [0., 0., 0., 0., 0., 0.],\n",
       "       [0., 0., 0., 0., 1., 0.]])"
      ]
     },
     "execution_count": 68,
     "metadata": {},
     "output_type": "execute_result"
    }
   ],
   "source": [
    "encoded_countries"
   ]
  },
  {
   "cell_type": "code",
   "execution_count": 69,
   "id": "4a958768",
   "metadata": {},
   "outputs": [
    {
     "data": {
      "text/plain": [
       "(127754, 6)"
      ]
     },
     "execution_count": 69,
     "metadata": {},
     "output_type": "execute_result"
    }
   ],
   "source": [
    "encoded_countries.shape"
   ]
  },
  {
   "cell_type": "code",
   "execution_count": 70,
   "id": "f960eaae",
   "metadata": {},
   "outputs": [],
   "source": [
    "users_numeric = users.drop('Location', axis=1).reset_index()\\\n",
    "                        .join(pd.DataFrame(encoded_countries,\n",
    "                                           columns=['location_' + str(i) for i in range(1, 7)],\n",
    "                                          )\n",
    "                             ).set_index('User-ID').drop('index', axis=1)"
   ]
  },
  {
   "cell_type": "code",
   "execution_count": 71,
   "id": "73708b07",
   "metadata": {},
   "outputs": [
    {
     "data": {
      "text/html": [
       "<div>\n",
       "<style scoped>\n",
       "    .dataframe tbody tr th:only-of-type {\n",
       "        vertical-align: middle;\n",
       "    }\n",
       "\n",
       "    .dataframe tbody tr th {\n",
       "        vertical-align: top;\n",
       "    }\n",
       "\n",
       "    .dataframe thead th {\n",
       "        text-align: right;\n",
       "    }\n",
       "</style>\n",
       "<table border=\"1\" class=\"dataframe\">\n",
       "  <thead>\n",
       "    <tr style=\"text-align: right;\">\n",
       "      <th></th>\n",
       "      <th>Age</th>\n",
       "      <th>location_1</th>\n",
       "      <th>location_2</th>\n",
       "      <th>location_3</th>\n",
       "      <th>location_4</th>\n",
       "      <th>location_5</th>\n",
       "      <th>location_6</th>\n",
       "    </tr>\n",
       "    <tr>\n",
       "      <th>User-ID</th>\n",
       "      <th></th>\n",
       "      <th></th>\n",
       "      <th></th>\n",
       "      <th></th>\n",
       "      <th></th>\n",
       "      <th></th>\n",
       "      <th></th>\n",
       "    </tr>\n",
       "  </thead>\n",
       "  <tbody>\n",
       "    <tr>\n",
       "      <th>2</th>\n",
       "      <td>18.0</td>\n",
       "      <td>0.0</td>\n",
       "      <td>0.0</td>\n",
       "      <td>0.0</td>\n",
       "      <td>0.0</td>\n",
       "      <td>0.0</td>\n",
       "      <td>1.0</td>\n",
       "    </tr>\n",
       "    <tr>\n",
       "      <th>6</th>\n",
       "      <td>61.0</td>\n",
       "      <td>0.0</td>\n",
       "      <td>0.0</td>\n",
       "      <td>0.0</td>\n",
       "      <td>0.0</td>\n",
       "      <td>0.0</td>\n",
       "      <td>1.0</td>\n",
       "    </tr>\n",
       "    <tr>\n",
       "      <th>10</th>\n",
       "      <td>26.0</td>\n",
       "      <td>0.0</td>\n",
       "      <td>0.0</td>\n",
       "      <td>0.0</td>\n",
       "      <td>1.0</td>\n",
       "      <td>0.0</td>\n",
       "      <td>0.0</td>\n",
       "    </tr>\n",
       "    <tr>\n",
       "      <th>13</th>\n",
       "      <td>26.0</td>\n",
       "      <td>0.0</td>\n",
       "      <td>0.0</td>\n",
       "      <td>0.0</td>\n",
       "      <td>1.0</td>\n",
       "      <td>0.0</td>\n",
       "      <td>0.0</td>\n",
       "    </tr>\n",
       "    <tr>\n",
       "      <th>20</th>\n",
       "      <td>19.0</td>\n",
       "      <td>0.0</td>\n",
       "      <td>0.0</td>\n",
       "      <td>0.0</td>\n",
       "      <td>0.0</td>\n",
       "      <td>0.0</td>\n",
       "      <td>1.0</td>\n",
       "    </tr>\n",
       "    <tr>\n",
       "      <th>...</th>\n",
       "      <td>...</td>\n",
       "      <td>...</td>\n",
       "      <td>...</td>\n",
       "      <td>...</td>\n",
       "      <td>...</td>\n",
       "      <td>...</td>\n",
       "      <td>...</td>\n",
       "    </tr>\n",
       "    <tr>\n",
       "      <th>278846</th>\n",
       "      <td>23.0</td>\n",
       "      <td>1.0</td>\n",
       "      <td>0.0</td>\n",
       "      <td>0.0</td>\n",
       "      <td>0.0</td>\n",
       "      <td>0.0</td>\n",
       "      <td>0.0</td>\n",
       "    </tr>\n",
       "    <tr>\n",
       "      <th>278849</th>\n",
       "      <td>23.0</td>\n",
       "      <td>1.0</td>\n",
       "      <td>0.0</td>\n",
       "      <td>0.0</td>\n",
       "      <td>0.0</td>\n",
       "      <td>0.0</td>\n",
       "      <td>0.0</td>\n",
       "    </tr>\n",
       "    <tr>\n",
       "      <th>278851</th>\n",
       "      <td>33.0</td>\n",
       "      <td>0.0</td>\n",
       "      <td>0.0</td>\n",
       "      <td>0.0</td>\n",
       "      <td>0.0</td>\n",
       "      <td>0.0</td>\n",
       "      <td>1.0</td>\n",
       "    </tr>\n",
       "    <tr>\n",
       "      <th>278852</th>\n",
       "      <td>32.0</td>\n",
       "      <td>0.0</td>\n",
       "      <td>0.0</td>\n",
       "      <td>0.0</td>\n",
       "      <td>0.0</td>\n",
       "      <td>0.0</td>\n",
       "      <td>0.0</td>\n",
       "    </tr>\n",
       "    <tr>\n",
       "      <th>278855</th>\n",
       "      <td>50.0</td>\n",
       "      <td>0.0</td>\n",
       "      <td>0.0</td>\n",
       "      <td>0.0</td>\n",
       "      <td>0.0</td>\n",
       "      <td>1.0</td>\n",
       "      <td>0.0</td>\n",
       "    </tr>\n",
       "  </tbody>\n",
       "</table>\n",
       "<p>127754 rows × 7 columns</p>\n",
       "</div>"
      ],
      "text/plain": [
       "          Age  location_1  location_2  location_3  location_4  location_5  \\\n",
       "User-ID                                                                     \n",
       "2        18.0         0.0         0.0         0.0         0.0         0.0   \n",
       "6        61.0         0.0         0.0         0.0         0.0         0.0   \n",
       "10       26.0         0.0         0.0         0.0         1.0         0.0   \n",
       "13       26.0         0.0         0.0         0.0         1.0         0.0   \n",
       "20       19.0         0.0         0.0         0.0         0.0         0.0   \n",
       "...       ...         ...         ...         ...         ...         ...   \n",
       "278846   23.0         1.0         0.0         0.0         0.0         0.0   \n",
       "278849   23.0         1.0         0.0         0.0         0.0         0.0   \n",
       "278851   33.0         0.0         0.0         0.0         0.0         0.0   \n",
       "278852   32.0         0.0         0.0         0.0         0.0         0.0   \n",
       "278855   50.0         0.0         0.0         0.0         0.0         1.0   \n",
       "\n",
       "         location_6  \n",
       "User-ID              \n",
       "2               1.0  \n",
       "6               1.0  \n",
       "10              0.0  \n",
       "13              0.0  \n",
       "20              1.0  \n",
       "...             ...  \n",
       "278846          0.0  \n",
       "278849          0.0  \n",
       "278851          1.0  \n",
       "278852          0.0  \n",
       "278855          0.0  \n",
       "\n",
       "[127754 rows x 7 columns]"
      ]
     },
     "execution_count": 71,
     "metadata": {},
     "output_type": "execute_result"
    }
   ],
   "source": [
    "users_numeric"
   ]
  },
  {
   "cell_type": "markdown",
   "id": "9832b40a",
   "metadata": {},
   "source": [
    "### Scaling users age:"
   ]
  },
  {
   "cell_type": "code",
   "execution_count": 72,
   "id": "b944b4db",
   "metadata": {},
   "outputs": [],
   "source": [
    "scaler_age = StandardScaler()"
   ]
  },
  {
   "cell_type": "code",
   "execution_count": 73,
   "id": "9aa07ad4",
   "metadata": {},
   "outputs": [],
   "source": [
    "users_numeric['Age'] = scaler_age.fit_transform(np.array(users_numeric['Age']).reshape(-1, 1))"
   ]
  },
  {
   "cell_type": "code",
   "execution_count": 74,
   "id": "2e4189d4",
   "metadata": {},
   "outputs": [
    {
     "data": {
      "text/html": [
       "<div>\n",
       "<style scoped>\n",
       "    .dataframe tbody tr th:only-of-type {\n",
       "        vertical-align: middle;\n",
       "    }\n",
       "\n",
       "    .dataframe tbody tr th {\n",
       "        vertical-align: top;\n",
       "    }\n",
       "\n",
       "    .dataframe thead th {\n",
       "        text-align: right;\n",
       "    }\n",
       "</style>\n",
       "<table border=\"1\" class=\"dataframe\">\n",
       "  <thead>\n",
       "    <tr style=\"text-align: right;\">\n",
       "      <th></th>\n",
       "      <th>Age</th>\n",
       "      <th>location_1</th>\n",
       "      <th>location_2</th>\n",
       "      <th>location_3</th>\n",
       "      <th>location_4</th>\n",
       "      <th>location_5</th>\n",
       "      <th>location_6</th>\n",
       "    </tr>\n",
       "    <tr>\n",
       "      <th>User-ID</th>\n",
       "      <th></th>\n",
       "      <th></th>\n",
       "      <th></th>\n",
       "      <th></th>\n",
       "      <th></th>\n",
       "      <th></th>\n",
       "      <th></th>\n",
       "    </tr>\n",
       "  </thead>\n",
       "  <tbody>\n",
       "    <tr>\n",
       "      <th>2</th>\n",
       "      <td>-1.458549</td>\n",
       "      <td>0.0</td>\n",
       "      <td>0.0</td>\n",
       "      <td>0.0</td>\n",
       "      <td>0.0</td>\n",
       "      <td>0.0</td>\n",
       "      <td>1.0</td>\n",
       "    </tr>\n",
       "    <tr>\n",
       "      <th>6</th>\n",
       "      <td>1.817278</td>\n",
       "      <td>0.0</td>\n",
       "      <td>0.0</td>\n",
       "      <td>0.0</td>\n",
       "      <td>0.0</td>\n",
       "      <td>0.0</td>\n",
       "      <td>1.0</td>\n",
       "    </tr>\n",
       "    <tr>\n",
       "      <th>10</th>\n",
       "      <td>-0.849093</td>\n",
       "      <td>0.0</td>\n",
       "      <td>0.0</td>\n",
       "      <td>0.0</td>\n",
       "      <td>1.0</td>\n",
       "      <td>0.0</td>\n",
       "      <td>0.0</td>\n",
       "    </tr>\n",
       "    <tr>\n",
       "      <th>13</th>\n",
       "      <td>-0.849093</td>\n",
       "      <td>0.0</td>\n",
       "      <td>0.0</td>\n",
       "      <td>0.0</td>\n",
       "      <td>1.0</td>\n",
       "      <td>0.0</td>\n",
       "      <td>0.0</td>\n",
       "    </tr>\n",
       "    <tr>\n",
       "      <th>20</th>\n",
       "      <td>-1.382367</td>\n",
       "      <td>0.0</td>\n",
       "      <td>0.0</td>\n",
       "      <td>0.0</td>\n",
       "      <td>0.0</td>\n",
       "      <td>0.0</td>\n",
       "      <td>1.0</td>\n",
       "    </tr>\n",
       "    <tr>\n",
       "      <th>21</th>\n",
       "      <td>0.674548</td>\n",
       "      <td>0.0</td>\n",
       "      <td>0.0</td>\n",
       "      <td>0.0</td>\n",
       "      <td>1.0</td>\n",
       "      <td>0.0</td>\n",
       "      <td>0.0</td>\n",
       "    </tr>\n",
       "    <tr>\n",
       "      <th>24</th>\n",
       "      <td>-1.382367</td>\n",
       "      <td>0.0</td>\n",
       "      <td>1.0</td>\n",
       "      <td>0.0</td>\n",
       "      <td>0.0</td>\n",
       "      <td>0.0</td>\n",
       "      <td>0.0</td>\n",
       "    </tr>\n",
       "    <tr>\n",
       "      <th>25</th>\n",
       "      <td>1.360186</td>\n",
       "      <td>0.0</td>\n",
       "      <td>0.0</td>\n",
       "      <td>0.0</td>\n",
       "      <td>0.0</td>\n",
       "      <td>0.0</td>\n",
       "      <td>1.0</td>\n",
       "    </tr>\n",
       "    <tr>\n",
       "      <th>27</th>\n",
       "      <td>-0.392000</td>\n",
       "      <td>0.0</td>\n",
       "      <td>0.0</td>\n",
       "      <td>0.0</td>\n",
       "      <td>0.0</td>\n",
       "      <td>0.0</td>\n",
       "      <td>1.0</td>\n",
       "    </tr>\n",
       "    <tr>\n",
       "      <th>28</th>\n",
       "      <td>-1.001457</td>\n",
       "      <td>0.0</td>\n",
       "      <td>1.0</td>\n",
       "      <td>0.0</td>\n",
       "      <td>0.0</td>\n",
       "      <td>0.0</td>\n",
       "      <td>0.0</td>\n",
       "    </tr>\n",
       "  </tbody>\n",
       "</table>\n",
       "</div>"
      ],
      "text/plain": [
       "              Age  location_1  location_2  location_3  location_4  location_5  \\\n",
       "User-ID                                                                         \n",
       "2       -1.458549         0.0         0.0         0.0         0.0         0.0   \n",
       "6        1.817278         0.0         0.0         0.0         0.0         0.0   \n",
       "10      -0.849093         0.0         0.0         0.0         1.0         0.0   \n",
       "13      -0.849093         0.0         0.0         0.0         1.0         0.0   \n",
       "20      -1.382367         0.0         0.0         0.0         0.0         0.0   \n",
       "21       0.674548         0.0         0.0         0.0         1.0         0.0   \n",
       "24      -1.382367         0.0         1.0         0.0         0.0         0.0   \n",
       "25       1.360186         0.0         0.0         0.0         0.0         0.0   \n",
       "27      -0.392000         0.0         0.0         0.0         0.0         0.0   \n",
       "28      -1.001457         0.0         1.0         0.0         0.0         0.0   \n",
       "\n",
       "         location_6  \n",
       "User-ID              \n",
       "2               1.0  \n",
       "6               1.0  \n",
       "10              0.0  \n",
       "13              0.0  \n",
       "20              1.0  \n",
       "21              0.0  \n",
       "24              0.0  \n",
       "25              1.0  \n",
       "27              1.0  \n",
       "28              0.0  "
      ]
     },
     "execution_count": 74,
     "metadata": {},
     "output_type": "execute_result"
    }
   ],
   "source": [
    "users_numeric.head(10)"
   ]
  },
  {
   "cell_type": "markdown",
   "id": "585a6d37",
   "metadata": {},
   "source": [
    "### Now we should consider users who are present in both datasets:"
   ]
  },
  {
   "cell_type": "code",
   "execution_count": 75,
   "id": "271e1427",
   "metadata": {},
   "outputs": [],
   "source": [
    "ids = np.intersect1d(users_numeric.index, ratings['User-ID'])"
   ]
  },
  {
   "cell_type": "code",
   "execution_count": 76,
   "id": "77a7dac6",
   "metadata": {},
   "outputs": [
    {
     "data": {
      "text/plain": [
       "(37568,)"
      ]
     },
     "execution_count": 76,
     "metadata": {},
     "output_type": "execute_result"
    }
   ],
   "source": [
    "ids.shape"
   ]
  },
  {
   "cell_type": "code",
   "execution_count": 77,
   "id": "5e953976",
   "metadata": {},
   "outputs": [],
   "source": [
    "users_numeric = users_numeric[users_numeric.index.isin(ids)]"
   ]
  },
  {
   "cell_type": "code",
   "execution_count": 78,
   "id": "d8e39588",
   "metadata": {},
   "outputs": [],
   "source": [
    "ratings = ratings[ratings['User-ID'].isin(ids)]"
   ]
  },
  {
   "cell_type": "code",
   "execution_count": 79,
   "id": "33cc393e",
   "metadata": {},
   "outputs": [
    {
     "data": {
      "text/plain": [
       "(258586, 2)"
      ]
     },
     "execution_count": 79,
     "metadata": {},
     "output_type": "execute_result"
    }
   ],
   "source": [
    "ratings.shape"
   ]
  },
  {
   "cell_type": "markdown",
   "id": "5761faaa",
   "metadata": {},
   "source": [
    "### Merging two datasets:"
   ]
  },
  {
   "cell_type": "code",
   "execution_count": 80,
   "id": "0147ad6f",
   "metadata": {},
   "outputs": [],
   "source": [
    "data = ratings.merge(users_numeric.reset_index(), on='User-ID')"
   ]
  },
  {
   "cell_type": "code",
   "execution_count": 81,
   "id": "c29d7935",
   "metadata": {},
   "outputs": [
    {
     "data": {
      "text/html": [
       "<div>\n",
       "<style scoped>\n",
       "    .dataframe tbody tr th:only-of-type {\n",
       "        vertical-align: middle;\n",
       "    }\n",
       "\n",
       "    .dataframe tbody tr th {\n",
       "        vertical-align: top;\n",
       "    }\n",
       "\n",
       "    .dataframe thead th {\n",
       "        text-align: right;\n",
       "    }\n",
       "</style>\n",
       "<table border=\"1\" class=\"dataframe\">\n",
       "  <thead>\n",
       "    <tr style=\"text-align: right;\">\n",
       "      <th></th>\n",
       "      <th>User-ID</th>\n",
       "      <th>Book-Rating</th>\n",
       "      <th>Age</th>\n",
       "      <th>location_1</th>\n",
       "      <th>location_2</th>\n",
       "      <th>location_3</th>\n",
       "      <th>location_4</th>\n",
       "      <th>location_5</th>\n",
       "      <th>location_6</th>\n",
       "    </tr>\n",
       "  </thead>\n",
       "  <tbody>\n",
       "    <tr>\n",
       "      <th>0</th>\n",
       "      <td>276745</td>\n",
       "      <td>10.0</td>\n",
       "      <td>-0.772911</td>\n",
       "      <td>0.0</td>\n",
       "      <td>1.0</td>\n",
       "      <td>0.0</td>\n",
       "      <td>0.0</td>\n",
       "      <td>0.0</td>\n",
       "      <td>0.0</td>\n",
       "    </tr>\n",
       "    <tr>\n",
       "      <th>1</th>\n",
       "      <td>276747</td>\n",
       "      <td>9.0</td>\n",
       "      <td>-0.925275</td>\n",
       "      <td>0.0</td>\n",
       "      <td>0.0</td>\n",
       "      <td>0.0</td>\n",
       "      <td>0.0</td>\n",
       "      <td>0.0</td>\n",
       "      <td>1.0</td>\n",
       "    </tr>\n",
       "    <tr>\n",
       "      <th>2</th>\n",
       "      <td>276747</td>\n",
       "      <td>9.0</td>\n",
       "      <td>-0.925275</td>\n",
       "      <td>0.0</td>\n",
       "      <td>0.0</td>\n",
       "      <td>0.0</td>\n",
       "      <td>0.0</td>\n",
       "      <td>0.0</td>\n",
       "      <td>1.0</td>\n",
       "    </tr>\n",
       "    <tr>\n",
       "      <th>3</th>\n",
       "      <td>276747</td>\n",
       "      <td>8.0</td>\n",
       "      <td>-0.925275</td>\n",
       "      <td>0.0</td>\n",
       "      <td>0.0</td>\n",
       "      <td>0.0</td>\n",
       "      <td>0.0</td>\n",
       "      <td>0.0</td>\n",
       "      <td>1.0</td>\n",
       "    </tr>\n",
       "    <tr>\n",
       "      <th>4</th>\n",
       "      <td>276747</td>\n",
       "      <td>7.0</td>\n",
       "      <td>-0.925275</td>\n",
       "      <td>0.0</td>\n",
       "      <td>0.0</td>\n",
       "      <td>0.0</td>\n",
       "      <td>0.0</td>\n",
       "      <td>0.0</td>\n",
       "      <td>1.0</td>\n",
       "    </tr>\n",
       "    <tr>\n",
       "      <th>...</th>\n",
       "      <td>...</td>\n",
       "      <td>...</td>\n",
       "      <td>...</td>\n",
       "      <td>...</td>\n",
       "      <td>...</td>\n",
       "      <td>...</td>\n",
       "      <td>...</td>\n",
       "      <td>...</td>\n",
       "      <td>...</td>\n",
       "    </tr>\n",
       "    <tr>\n",
       "      <th>258581</th>\n",
       "      <td>276681</td>\n",
       "      <td>8.0</td>\n",
       "      <td>0.446002</td>\n",
       "      <td>0.0</td>\n",
       "      <td>0.0</td>\n",
       "      <td>0.0</td>\n",
       "      <td>0.0</td>\n",
       "      <td>0.0</td>\n",
       "      <td>1.0</td>\n",
       "    </tr>\n",
       "    <tr>\n",
       "      <th>258582</th>\n",
       "      <td>276681</td>\n",
       "      <td>8.0</td>\n",
       "      <td>0.446002</td>\n",
       "      <td>0.0</td>\n",
       "      <td>0.0</td>\n",
       "      <td>0.0</td>\n",
       "      <td>0.0</td>\n",
       "      <td>0.0</td>\n",
       "      <td>1.0</td>\n",
       "    </tr>\n",
       "    <tr>\n",
       "      <th>258583</th>\n",
       "      <td>276681</td>\n",
       "      <td>7.0</td>\n",
       "      <td>0.446002</td>\n",
       "      <td>0.0</td>\n",
       "      <td>0.0</td>\n",
       "      <td>0.0</td>\n",
       "      <td>0.0</td>\n",
       "      <td>0.0</td>\n",
       "      <td>1.0</td>\n",
       "    </tr>\n",
       "    <tr>\n",
       "      <th>258584</th>\n",
       "      <td>276681</td>\n",
       "      <td>10.0</td>\n",
       "      <td>0.446002</td>\n",
       "      <td>0.0</td>\n",
       "      <td>0.0</td>\n",
       "      <td>0.0</td>\n",
       "      <td>0.0</td>\n",
       "      <td>0.0</td>\n",
       "      <td>1.0</td>\n",
       "    </tr>\n",
       "    <tr>\n",
       "      <th>258585</th>\n",
       "      <td>276709</td>\n",
       "      <td>10.0</td>\n",
       "      <td>0.065092</td>\n",
       "      <td>0.0</td>\n",
       "      <td>0.0</td>\n",
       "      <td>0.0</td>\n",
       "      <td>0.0</td>\n",
       "      <td>0.0</td>\n",
       "      <td>1.0</td>\n",
       "    </tr>\n",
       "  </tbody>\n",
       "</table>\n",
       "<p>258586 rows × 9 columns</p>\n",
       "</div>"
      ],
      "text/plain": [
       "        User-ID  Book-Rating       Age  location_1  location_2  location_3  \\\n",
       "0        276745         10.0 -0.772911         0.0         1.0         0.0   \n",
       "1        276747          9.0 -0.925275         0.0         0.0         0.0   \n",
       "2        276747          9.0 -0.925275         0.0         0.0         0.0   \n",
       "3        276747          8.0 -0.925275         0.0         0.0         0.0   \n",
       "4        276747          7.0 -0.925275         0.0         0.0         0.0   \n",
       "...         ...          ...       ...         ...         ...         ...   \n",
       "258581   276681          8.0  0.446002         0.0         0.0         0.0   \n",
       "258582   276681          8.0  0.446002         0.0         0.0         0.0   \n",
       "258583   276681          7.0  0.446002         0.0         0.0         0.0   \n",
       "258584   276681         10.0  0.446002         0.0         0.0         0.0   \n",
       "258585   276709         10.0  0.065092         0.0         0.0         0.0   \n",
       "\n",
       "        location_4  location_5  location_6  \n",
       "0              0.0         0.0         0.0  \n",
       "1              0.0         0.0         1.0  \n",
       "2              0.0         0.0         1.0  \n",
       "3              0.0         0.0         1.0  \n",
       "4              0.0         0.0         1.0  \n",
       "...            ...         ...         ...  \n",
       "258581         0.0         0.0         1.0  \n",
       "258582         0.0         0.0         1.0  \n",
       "258583         0.0         0.0         1.0  \n",
       "258584         0.0         0.0         1.0  \n",
       "258585         0.0         0.0         1.0  \n",
       "\n",
       "[258586 rows x 9 columns]"
      ]
     },
     "execution_count": 81,
     "metadata": {},
     "output_type": "execute_result"
    }
   ],
   "source": [
    "data"
   ]
  },
  {
   "cell_type": "markdown",
   "id": "f471e40d",
   "metadata": {},
   "source": [
    "### Preparing a regression model:"
   ]
  },
  {
   "cell_type": "code",
   "execution_count": 82,
   "id": "ae27cffc",
   "metadata": {},
   "outputs": [],
   "source": [
    "inputs, target = data.drop(['User-ID', 'Book-Rating'], axis=1), data['Book-Rating']"
   ]
  },
  {
   "cell_type": "code",
   "execution_count": 83,
   "id": "bc080f8a",
   "metadata": {},
   "outputs": [],
   "source": [
    "input_train, input_test, target_train, target_test = train_test_split(inputs, target, test_size=.15)"
   ]
  },
  {
   "cell_type": "markdown",
   "id": "f175653b",
   "metadata": {},
   "source": [
    "### Random Forest will be used for a regression task:"
   ]
  },
  {
   "cell_type": "code",
   "execution_count": 84,
   "id": "705cde3e",
   "metadata": {},
   "outputs": [],
   "source": [
    "RFF = RandomForestRegressor()"
   ]
  },
  {
   "cell_type": "code",
   "execution_count": 85,
   "id": "dfb8b062",
   "metadata": {},
   "outputs": [],
   "source": [
    "grid_parameters = {\n",
    "    'n_estimators': [50, 100, 150, 200],\n",
    "    'max_features': ['log2', 'sqrt', 1, 2],\n",
    "    'min_samples_split': [2, 4, 6],\n",
    "}"
   ]
  },
  {
   "cell_type": "code",
   "execution_count": 86,
   "id": "7d1a6ccf",
   "metadata": {},
   "outputs": [],
   "source": [
    "grid = GridSearchCV(estimator=RFF,\n",
    "                   param_grid=grid_parameters,\n",
    "                   n_jobs=-1,\n",
    "                   cv=5,\n",
    "                   verbose=True,\n",
    "                   )"
   ]
  },
  {
   "cell_type": "code",
   "execution_count": 87,
   "id": "d9648366",
   "metadata": {},
   "outputs": [
    {
     "name": "stdout",
     "output_type": "stream",
     "text": [
      "Fitting 5 folds for each of 48 candidates, totalling 240 fits\n"
     ]
    }
   ],
   "source": [
    "t0 = time()\n",
    "grid.fit(input_train, target_train)\n",
    "t1 = time()"
   ]
  },
  {
   "cell_type": "code",
   "execution_count": 88,
   "id": "39e38598",
   "metadata": {},
   "outputs": [
    {
     "data": {
      "text/html": [
       "<style>#sk-container-id-1 {color: black;background-color: white;}#sk-container-id-1 pre{padding: 0;}#sk-container-id-1 div.sk-toggleable {background-color: white;}#sk-container-id-1 label.sk-toggleable__label {cursor: pointer;display: block;width: 100%;margin-bottom: 0;padding: 0.3em;box-sizing: border-box;text-align: center;}#sk-container-id-1 label.sk-toggleable__label-arrow:before {content: \"▸\";float: left;margin-right: 0.25em;color: #696969;}#sk-container-id-1 label.sk-toggleable__label-arrow:hover:before {color: black;}#sk-container-id-1 div.sk-estimator:hover label.sk-toggleable__label-arrow:before {color: black;}#sk-container-id-1 div.sk-toggleable__content {max-height: 0;max-width: 0;overflow: hidden;text-align: left;background-color: #f0f8ff;}#sk-container-id-1 div.sk-toggleable__content pre {margin: 0.2em;color: black;border-radius: 0.25em;background-color: #f0f8ff;}#sk-container-id-1 input.sk-toggleable__control:checked~div.sk-toggleable__content {max-height: 200px;max-width: 100%;overflow: auto;}#sk-container-id-1 input.sk-toggleable__control:checked~label.sk-toggleable__label-arrow:before {content: \"▾\";}#sk-container-id-1 div.sk-estimator input.sk-toggleable__control:checked~label.sk-toggleable__label {background-color: #d4ebff;}#sk-container-id-1 div.sk-label input.sk-toggleable__control:checked~label.sk-toggleable__label {background-color: #d4ebff;}#sk-container-id-1 input.sk-hidden--visually {border: 0;clip: rect(1px 1px 1px 1px);clip: rect(1px, 1px, 1px, 1px);height: 1px;margin: -1px;overflow: hidden;padding: 0;position: absolute;width: 1px;}#sk-container-id-1 div.sk-estimator {font-family: monospace;background-color: #f0f8ff;border: 1px dotted black;border-radius: 0.25em;box-sizing: border-box;margin-bottom: 0.5em;}#sk-container-id-1 div.sk-estimator:hover {background-color: #d4ebff;}#sk-container-id-1 div.sk-parallel-item::after {content: \"\";width: 100%;border-bottom: 1px solid gray;flex-grow: 1;}#sk-container-id-1 div.sk-label:hover label.sk-toggleable__label {background-color: #d4ebff;}#sk-container-id-1 div.sk-serial::before {content: \"\";position: absolute;border-left: 1px solid gray;box-sizing: border-box;top: 0;bottom: 0;left: 50%;z-index: 0;}#sk-container-id-1 div.sk-serial {display: flex;flex-direction: column;align-items: center;background-color: white;padding-right: 0.2em;padding-left: 0.2em;position: relative;}#sk-container-id-1 div.sk-item {position: relative;z-index: 1;}#sk-container-id-1 div.sk-parallel {display: flex;align-items: stretch;justify-content: center;background-color: white;position: relative;}#sk-container-id-1 div.sk-item::before, #sk-container-id-1 div.sk-parallel-item::before {content: \"\";position: absolute;border-left: 1px solid gray;box-sizing: border-box;top: 0;bottom: 0;left: 50%;z-index: -1;}#sk-container-id-1 div.sk-parallel-item {display: flex;flex-direction: column;z-index: 1;position: relative;background-color: white;}#sk-container-id-1 div.sk-parallel-item:first-child::after {align-self: flex-end;width: 50%;}#sk-container-id-1 div.sk-parallel-item:last-child::after {align-self: flex-start;width: 50%;}#sk-container-id-1 div.sk-parallel-item:only-child::after {width: 0;}#sk-container-id-1 div.sk-dashed-wrapped {border: 1px dashed gray;margin: 0 0.4em 0.5em 0.4em;box-sizing: border-box;padding-bottom: 0.4em;background-color: white;}#sk-container-id-1 div.sk-label label {font-family: monospace;font-weight: bold;display: inline-block;line-height: 1.2em;}#sk-container-id-1 div.sk-label-container {text-align: center;}#sk-container-id-1 div.sk-container {/* jupyter's `normalize.less` sets `[hidden] { display: none; }` but bootstrap.min.css set `[hidden] { display: none !important; }` so we also need the `!important` here to be able to override the default hidden behavior on the sphinx rendered scikit-learn.org. See: https://github.com/scikit-learn/scikit-learn/issues/21755 */display: inline-block !important;position: relative;}#sk-container-id-1 div.sk-text-repr-fallback {display: none;}</style><div id=\"sk-container-id-1\" class=\"sk-top-container\"><div class=\"sk-text-repr-fallback\"><pre>RandomForestRegressor(max_features=&#x27;sqrt&#x27;, min_samples_split=4,\n",
       "                      n_estimators=150)</pre><b>In a Jupyter environment, please rerun this cell to show the HTML representation or trust the notebook. <br />On GitHub, the HTML representation is unable to render, please try loading this page with nbviewer.org.</b></div><div class=\"sk-container\" hidden><div class=\"sk-item\"><div class=\"sk-estimator sk-toggleable\"><input class=\"sk-toggleable__control sk-hidden--visually\" id=\"sk-estimator-id-1\" type=\"checkbox\" checked><label for=\"sk-estimator-id-1\" class=\"sk-toggleable__label sk-toggleable__label-arrow\">RandomForestRegressor</label><div class=\"sk-toggleable__content\"><pre>RandomForestRegressor(max_features=&#x27;sqrt&#x27;, min_samples_split=4,\n",
       "                      n_estimators=150)</pre></div></div></div></div></div>"
      ],
      "text/plain": [
       "RandomForestRegressor(max_features='sqrt', min_samples_split=4,\n",
       "                      n_estimators=150)"
      ]
     },
     "execution_count": 88,
     "metadata": {},
     "output_type": "execute_result"
    }
   ],
   "source": [
    "grid.best_estimator_"
   ]
  },
  {
   "cell_type": "code",
   "execution_count": 89,
   "id": "23c0ec56",
   "metadata": {},
   "outputs": [
    {
     "data": {
      "text/plain": [
       "0.0325316848482865"
      ]
     },
     "execution_count": 89,
     "metadata": {},
     "output_type": "execute_result"
    }
   ],
   "source": [
    "grid.best_score_"
   ]
  },
  {
   "cell_type": "code",
   "execution_count": 90,
   "id": "901c9c8b",
   "metadata": {},
   "outputs": [
    {
     "name": "stdout",
     "output_type": "stream",
     "text": [
      "Searching took 671.45 seconds\n"
     ]
    }
   ],
   "source": [
    "print('Searching took {} seconds'.format(round(t1 - t0, 2)))"
   ]
  },
  {
   "cell_type": "code",
   "execution_count": 91,
   "id": "c14c5f8f",
   "metadata": {},
   "outputs": [],
   "source": [
    "target_predicted = grid.predict(input_test)"
   ]
  },
  {
   "cell_type": "code",
   "execution_count": 92,
   "id": "52784af4",
   "metadata": {},
   "outputs": [
    {
     "data": {
      "text/plain": [
       "0.008319017320906563"
      ]
     },
     "execution_count": 92,
     "metadata": {},
     "output_type": "execute_result"
    }
   ],
   "source": [
    "r2_score(y_true=target_test, y_pred=target_predicted.round())"
   ]
  },
  {
   "cell_type": "markdown",
   "id": "b85c9efc",
   "metadata": {},
   "source": [
    "### As one could expect, prediction performs quite poorly since there are only two paramters supposed to describe ratings"
   ]
  },
  {
   "cell_type": "code",
   "execution_count": 96,
   "id": "d388cb06",
   "metadata": {},
   "outputs": [],
   "source": [
    "with open('data/model.pkl', 'wb') as file:\n",
    "    pickle.dump(grid.best_estimator_, file)"
   ]
  }
 ],
 "metadata": {
  "kernelspec": {
   "display_name": "Python 3 (ipykernel)",
   "language": "python",
   "name": "python3"
  },
  "language_info": {
   "codemirror_mode": {
    "name": "ipython",
    "version": 3
   },
   "file_extension": ".py",
   "mimetype": "text/x-python",
   "name": "python",
   "nbconvert_exporter": "python",
   "pygments_lexer": "ipython3",
   "version": "3.8.10"
  }
 },
 "nbformat": 4,
 "nbformat_minor": 5
}
